{
 "cells": [
  {
   "cell_type": "code",
   "execution_count": 4,
   "metadata": {
    "colab": {},
    "colab_type": "code",
    "id": "-REXmBXqMU7T"
   },
   "outputs": [],
   "source": [
    "import spacy\n",
    "import requests      # For downloading things\n",
    "import pandas as pd  # For data sciencey stuff\n",
    "import numpy as np   # For binning\n",
    "from collections import Counter # For counting"
   ]
  },
  {
   "cell_type": "code",
   "execution_count": 11,
   "metadata": {
    "colab": {},
    "colab_type": "code",
    "id": "DsDhJiCFMbx9"
   },
   "outputs": [],
   "source": [
    "import en_core_web_md\n",
    "nlp = en_core_web_md.load()\n",
    "#nlp =  spacy.load('en_core_web_md')"
   ]
  },
  {
   "cell_type": "code",
   "execution_count": 12,
   "metadata": {
    "colab": {},
    "colab_type": "code",
    "id": "1wjxWvYwk4zU"
   },
   "outputs": [],
   "source": [
    "# Or use the default model, which has fewer features:\n",
    "#nlp = spacy.load('en')\n",
    "#nlp = en_core_web_md.load()"
   ]
  },
  {
   "cell_type": "code",
   "execution_count": 13,
   "metadata": {
    "colab": {},
    "colab_type": "code",
    "id": "P8PaOY1yRU5M"
   },
   "outputs": [],
   "source": [
    "# I shortened these links to make them easier to type during the workshop, \n",
    "# but they just point to files here: https://github.com/JonathanReeve/advanced-text-analysis-workshop-2017\n",
    "grailRaw = requests.get('http://bit.ly/grail-txt').text\n",
    "prideRaw = requests.get('http://bit.ly/pride-txt').text"
   ]
  },
  {
   "cell_type": "code",
   "execution_count": 40,
   "metadata": {
    "colab": {},
    "colab_type": "code",
    "id": "vLzgh4yiiO0t"
   },
   "outputs": [],
   "source": [
    "# If I have those files in my local directory, I can just run: \n",
    "prideRaw = open('pride.txt').read()\n",
    "grailRaw = open('grail.txt').read()"
   ]
  },
  {
   "cell_type": "code",
   "execution_count": 41,
   "metadata": {
    "colab": {
     "base_uri": "https://localhost:8080/",
     "height": 106
    },
    "colab_type": "code",
    "id": "J2PQKP7OReQ-",
    "outputId": "768a7dff-3f3d-4fd3-802c-2318d624223e"
   },
   "outputs": [
    {
     "name": "stdout",
     "output_type": "stream",
     "text": [
      "SCENE 1: [wind] [clop clop clop] \n",
      "KING ARTHUR: Whoa there!  [clop clop clop] \n",
      "SOLDIER #1: Halt!  Who goes there?\n",
      "ARTHUR: It is I, Arthur, son of Uther Pendragon, from the castle of Camelot.  King of t\n"
     ]
    }
   ],
   "source": [
    "print(grailRaw[:200]) # Sanity check"
   ]
  },
  {
   "cell_type": "code",
   "execution_count": 42,
   "metadata": {
    "colab": {
     "base_uri": "https://localhost:8080/",
     "height": 104
    },
    "colab_type": "code",
    "id": "UG-P_hJQwBVg",
    "outputId": "05c98d80-dc45-43bf-9502-3ceeb824444a"
   },
   "outputs": [
    {
     "name": "stdout",
     "output_type": "stream",
     "text": [
      "It is a truth universally acknowledged, that a single man in possession\n",
      "of a good fortune, must be in want of a wife.\n",
      "\n",
      "However little known the feelings or views of such a man may be on his\n",
      "first ente\n"
     ]
    }
   ],
   "source": [
    "print(prideRaw[:200])"
   ]
  },
  {
   "cell_type": "code",
   "execution_count": 43,
   "metadata": {
    "colab": {},
    "colab_type": "code",
    "id": "Fh4hxAj6ZCqE"
   },
   "outputs": [],
   "source": [
    "grail = nlp(grailRaw)"
   ]
  },
  {
   "cell_type": "code",
   "execution_count": 44,
   "metadata": {
    "colab": {
     "base_uri": "https://localhost:8080/",
     "height": 34
    },
    "colab_type": "code",
    "id": "UuhHxJjcpfWA",
    "outputId": "3ed2539c-34b8-47b1-d992-cc7824167621"
   },
   "outputs": [
    {
     "data": {
      "text/plain": [
       "spacy.tokens.doc.Doc"
      ]
     },
     "execution_count": 44,
     "metadata": {},
     "output_type": "execute_result"
    }
   ],
   "source": [
    "type(grail)"
   ]
  },
  {
   "cell_type": "code",
   "execution_count": 45,
   "metadata": {
    "colab": {},
    "colab_type": "code",
    "id": "S2VmOfNEt-H5"
   },
   "outputs": [],
   "source": [
    "pride = nlp(prideRaw)"
   ]
  },
  {
   "cell_type": "code",
   "execution_count": 46,
   "metadata": {
    "colab": {
     "base_uri": "https://localhost:8080/",
     "height": 34
    },
    "colab_type": "code",
    "id": "GA2HgI9qDPiv",
    "outputId": "1fba3b3b-c820-48f6-cb9b-f0966a88753f"
   },
   "outputs": [
    {
     "data": {
      "text/plain": [
       "spacy.tokens.doc.Doc"
      ]
     },
     "execution_count": 46,
     "metadata": {},
     "output_type": "execute_result"
    }
   ],
   "source": [
    "type(pride)"
   ]
  },
  {
   "cell_type": "markdown",
   "metadata": {
    "colab_type": "text",
    "id": "u_I2WRm3jbq4"
   },
   "source": [
    "## What properties does this Doc object have? "
   ]
  },
  {
   "cell_type": "code",
   "execution_count": 47,
   "metadata": {
    "colab": {
     "base_uri": "https://localhost:8080/",
     "height": 781
    },
    "colab_type": "code",
    "id": "mGOK_HZYjgBq",
    "outputId": "182ec08e-d344-41c3-c8e2-4e2bd1585dfa"
   },
   "outputs": [
    {
     "data": {
      "text/plain": [
       "['cats',\n",
       " 'char_span',\n",
       " 'count_by',\n",
       " 'doc',\n",
       " 'ents',\n",
       " 'extend_tensor',\n",
       " 'from_array',\n",
       " 'from_bytes',\n",
       " 'from_disk',\n",
       " 'get_extension',\n",
       " 'get_lca_matrix',\n",
       " 'has_extension',\n",
       " 'has_vector',\n",
       " 'is_nered',\n",
       " 'is_parsed',\n",
       " 'is_sentenced',\n",
       " 'is_tagged',\n",
       " 'lang',\n",
       " 'lang_',\n",
       " 'mem',\n",
       " 'merge',\n",
       " 'noun_chunks',\n",
       " 'noun_chunks_iterator',\n",
       " 'print_tree',\n",
       " 'remove_extension',\n",
       " 'retokenize',\n",
       " 'sentiment',\n",
       " 'sents',\n",
       " 'set_extension',\n",
       " 'similarity',\n",
       " 'tensor',\n",
       " 'text',\n",
       " 'text_with_ws',\n",
       " 'to_array',\n",
       " 'to_bytes',\n",
       " 'to_disk',\n",
       " 'to_json',\n",
       " 'to_utf8_array',\n",
       " 'user_data',\n",
       " 'user_hooks',\n",
       " 'user_span_hooks',\n",
       " 'user_token_hooks',\n",
       " 'vector',\n",
       " 'vector_norm',\n",
       " 'vocab']"
      ]
     },
     "execution_count": 47,
     "metadata": {},
     "output_type": "execute_result"
    }
   ],
   "source": [
    "[prop for prop in dir(grail) if not prop.startswith('_')]"
   ]
  },
  {
   "cell_type": "markdown",
   "metadata": {
    "colab_type": "text",
    "id": "oyDgxaDfKft7"
   },
   "source": [
    "SpaCy processes everything all at once, which explains why the command above takes so long. It's doing named entity recognition, looking up word vectors, doing POS tagging, and performing other tasks. \n",
    "\n",
    "## How many words are there in a text? "
   ]
  },
  {
   "cell_type": "code",
   "execution_count": 48,
   "metadata": {
    "colab": {
     "base_uri": "https://localhost:8080/",
     "height": 34
    },
    "colab_type": "code",
    "id": "2150_uXoDXcz",
    "outputId": "1b464811-a926-4a81-a841-33ea27892955"
   },
   "outputs": [
    {
     "data": {
      "text/plain": [
       "(18522, 155435)"
      ]
     },
     "execution_count": 48,
     "metadata": {},
     "output_type": "execute_result"
    }
   ],
   "source": [
    "len(grail), len(pride)"
   ]
  },
  {
   "cell_type": "code",
   "execution_count": 49,
   "metadata": {
    "colab": {
     "base_uri": "https://localhost:8080/",
     "height": 34
    },
    "colab_type": "code",
    "id": "TFSZ6vl_BNgb",
    "outputId": "0849b4f9-e828-4ae9-ea62-7d6834d8597c"
   },
   "outputs": [
    {
     "data": {
      "text/plain": [
       "155435"
      ]
     },
     "execution_count": 49,
     "metadata": {},
     "output_type": "execute_result"
    }
   ],
   "source": [
    "len(pride)"
   ]
  },
  {
   "cell_type": "code",
   "execution_count": 50,
   "metadata": {
    "colab": {
     "base_uri": "https://localhost:8080/",
     "height": 34
    },
    "colab_type": "code",
    "id": "T5NM7vkoDavC",
    "outputId": "16bf41ab-6b05-49cf-cf3c-7b9247db002f"
   },
   "outputs": [
    {
     "data": {
      "text/plain": [
       "Whoa"
      ]
     },
     "execution_count": 50,
     "metadata": {},
     "output_type": "execute_result"
    }
   ],
   "source": [
    "grail[15] # The sixteenth word"
   ]
  },
  {
   "cell_type": "markdown",
   "metadata": {
    "colab_type": "text",
    "id": "6qKF1kRYKn2I"
   },
   "source": [
    "## How many sentences are there? "
   ]
  },
  {
   "cell_type": "code",
   "execution_count": 51,
   "metadata": {
    "colab": {
     "base_uri": "https://localhost:8080/",
     "height": 34
    },
    "colab_type": "code",
    "id": "BvsgGm6WpQg2",
    "outputId": "cfb9eff9-0484-48ab-c502-65d80dcecc8d"
   },
   "outputs": [
    {
     "data": {
      "text/plain": [
       "generator"
      ]
     },
     "execution_count": 51,
     "metadata": {},
     "output_type": "execute_result"
    }
   ],
   "source": [
    "type(grail.sents)"
   ]
  },
  {
   "cell_type": "markdown",
   "metadata": {
    "colab_type": "text",
    "id": "Q4QRc35PuCES"
   },
   "source": [
    "## Side note: on generators\n",
    "\n",
    "Generators are functions that behave as iterators, i.e., you can iterate over them with a `for` loop, like you would with a list. But you can't index them. So this works: \n",
    "\n",
    "```python\n",
    "for sent in grailDoc.sents: \n",
    "  print(sent)\n",
    "```\n",
    "\n",
    "But not this: \n",
    "\n",
    "```python\n",
    "print(grailDoc.sents[0]) # Doesn't work\n",
    "```\n",
    "\n",
    "However, you can force a generator into a list, using `list()`, and then index it. So to get the first sentence of _Pride and Prejudice_, one could write:\n",
    "\n",
    "```python\n",
    "list(pride.sents)[0]\n",
    "```\n",
    "\n",
    "But actually if we just want the first one, we can do this: \n",
    "\n",
    "```python\n",
    "next(pride.sents)\n",
    "```\n",
    "\n",
    "## How many sentences are there in _Pride and Prejudice_? "
   ]
  },
  {
   "cell_type": "code",
   "execution_count": 55,
   "metadata": {},
   "outputs": [
    {
     "data": {
      "text/plain": [
       "It is a truth universally acknowledged, that a single man in possession\n",
       "of a good fortune, must be in want of a wife.\n"
      ]
     },
     "execution_count": 55,
     "metadata": {},
     "output_type": "execute_result"
    }
   ],
   "source": [
    "next(pride.sents)"
   ]
  },
  {
   "cell_type": "code",
   "execution_count": 52,
   "metadata": {
    "colab": {
     "base_uri": "https://localhost:8080/",
     "height": 34
    },
    "colab_type": "code",
    "id": "6zNgVuSaEM4s",
    "outputId": "8a1cbcc5-760e-4bdb-b2ee-e02456179294"
   },
   "outputs": [
    {
     "data": {
      "text/plain": [
       "6783"
      ]
     },
     "execution_count": 52,
     "metadata": {},
     "output_type": "execute_result"
    }
   ],
   "source": [
    "len(list(pride.sents))"
   ]
  },
  {
   "cell_type": "markdown",
   "metadata": {
    "colab_type": "text",
    "id": "ownHtIc6Eadq"
   },
   "source": [
    "## What's the longest sentence in _Pride and Prejudice_?"
   ]
  },
  {
   "cell_type": "code",
   "execution_count": 58,
   "metadata": {},
   "outputs": [
    {
     "data": {
      "text/plain": [
       "Darcy, as well as Elizabeth, really loved them; and they were both ever\n",
       "sensible of the warmest gratitude towards the persons who, by bringing\n",
       "her into Derbyshire, had been the means of uniting them."
      ]
     },
     "execution_count": 58,
     "metadata": {},
     "output_type": "execute_result"
    }
   ],
   "source": [
    "prideDoc = list(pride.sents)\n",
    "prideDoc[-1]"
   ]
  },
  {
   "cell_type": "code",
   "execution_count": 56,
   "metadata": {},
   "outputs": [
    {
     "data": {
      "text/plain": [
       "Darcy, as well as Elizabeth, really loved them; and they were both ever\n",
       "sensible of the warmest gratitude towards the persons who, by bringing\n",
       "her into Derbyshire, had been the means of uniting them."
      ]
     },
     "execution_count": 56,
     "metadata": {},
     "output_type": "execute_result"
    }
   ],
   "source": [
    "prideSents = list(pride.sents)\n",
    "prideSents[-1]"
   ]
  },
  {
   "cell_type": "code",
   "execution_count": 57,
   "metadata": {},
   "outputs": [
    {
     "data": {
      "text/plain": [
       "[that proud and repulsive as\n",
       " were his manners, she had never, in the whole course of their\n",
       " acquaintance--an acquaintance which had latterly brought them much\n",
       " together, and given her a sort of intimacy with his ways--seen anything\n",
       " that betrayed him to be unprincipled or unjust--anything that spoke him\n",
       " of irreligious or immoral habits; that among his own connections he was\n",
       " esteemed and valued--that even Wickham had allowed him merit as a\n",
       " brother, and that she had often heard him speak so affectionately of his\n",
       " sister as to prove him capable of _some_ amiable feeling; that had his\n",
       " actions been what Mr. Wickham represented them, so gross a violation of\n",
       " everything right could hardly have been concealed from the world; and\n",
       " that friendship between a person capable of it, and such an amiable man\n",
       " as Mr. Bingley, was incomprehensible.\n",
       " ]"
      ]
     },
     "execution_count": 57,
     "metadata": {},
     "output_type": "execute_result"
    }
   ],
   "source": [
    "prideSentenceLengths = [len(sent) for sent in prideSents]\n",
    "[sent for sent in prideSents if len(sent) == max(prideSentenceLengths)]"
   ]
  },
  {
   "cell_type": "code",
   "execution_count": 61,
   "metadata": {
    "colab": {
     "base_uri": "https://localhost:8080/",
     "height": 204
    },
    "colab_type": "code",
    "id": "-Sag9j9Zpigk",
    "outputId": "12590fcd-e759-4cce-a22d-0a98be4afb29"
   },
   "outputs": [
    {
     "data": {
      "text/plain": [
       "[that proud and repulsive as\n",
       " were his manners, she had never, in the whole course of their\n",
       " acquaintance--an acquaintance which had latterly brought them much\n",
       " together, and given her a sort of intimacy with his ways--seen anything\n",
       " that betrayed him to be unprincipled or unjust--anything that spoke him\n",
       " of irreligious or immoral habits; that among his own connections he was\n",
       " esteemed and valued--that even Wickham had allowed him merit as a\n",
       " brother, and that she had often heard him speak so affectionately of his\n",
       " sister as to prove him capable of _some_ amiable feeling; that had his\n",
       " actions been what Mr. Wickham represented them, so gross a violation of\n",
       " everything right could hardly have been concealed from the world; and\n",
       " that friendship between a person capable of it, and such an amiable man\n",
       " as Mr. Bingley, was incomprehensible.\n",
       " ]"
      ]
     },
     "execution_count": 61,
     "metadata": {},
     "output_type": "execute_result"
    }
   ],
   "source": [
    "prideSentLengths = [len(sent) for sent in prideDoc]\n",
    "[sent for sent in prideDoc if len(sent) == max(prideSentLengths)]"
   ]
  },
  {
   "cell_type": "markdown",
   "metadata": {
    "colab_type": "text",
    "id": "hCk0PYCZJyTL"
   },
   "source": [
    "## What words appear more in exclamatory sentences? "
   ]
  },
  {
   "cell_type": "code",
   "execution_count": 62,
   "metadata": {
    "colab": {},
    "colab_type": "code",
    "id": "1dYeenVUGTbL"
   },
   "outputs": [],
   "source": [
    "excl = [sent for sent in pride.sents if '!' in sent.text]\n",
    "exclCounts = pd.Series(Counter([word.lemma_ for sent in excl for word in sent if not word.is_punct and not word.is_space]))\n",
    "noExcl = [sent for sent in pride.sents if '!' not in sent.text]\n",
    "noExclCounts = pd.Series(Counter([word.lemma_ for sent in noExcl for word in sent if not word.is_punct and not word.is_space]))"
   ]
  },
  {
   "cell_type": "code",
   "execution_count": 63,
   "metadata": {
    "colab": {
     "base_uri": "https://localhost:8080/",
     "height": 204
    },
    "colab_type": "code",
    "id": "pe7KRQyCJNJZ",
    "outputId": "58b66ac8-eb80-4c5f-d5cd-0a222eb6b59d"
   },
   "outputs": [
    {
     "data": {
      "text/plain": [
       "oh          81.0\n",
       "Heaven       9.0\n",
       "Lord         8.0\n",
       "gracious     4.0\n",
       "Good         4.0\n",
       "ah           3.0\n",
       "strange      2.0\n",
       "fun          2.0\n",
       "Tis          1.0\n",
       "ankle        1.0\n",
       "dtype: float64"
      ]
     },
     "execution_count": 63,
     "metadata": {},
     "output_type": "execute_result"
    }
   ],
   "source": [
    "(exclCounts - noExclCounts).sort_values(ascending=False).head(10)"
   ]
  },
  {
   "cell_type": "markdown",
   "metadata": {
    "colab_type": "text",
    "id": "nxwM7D4IK3RL"
   },
   "source": [
    "## Exploring properties of words (tokens)"
   ]
  },
  {
   "cell_type": "code",
   "execution_count": 64,
   "metadata": {
    "colab": {
     "base_uri": "https://localhost:8080/",
     "height": 34
    },
    "colab_type": "code",
    "id": "iDIWPQyrJteR",
    "outputId": "35063005-d139-40de-eecb-1f0feb421600"
   },
   "outputs": [
    {
     "data": {
      "text/plain": [
       "spacy.tokens.span.Span"
      ]
     },
     "execution_count": 64,
     "metadata": {},
     "output_type": "execute_result"
    }
   ],
   "source": [
    "universally = prideDoc[4]\n",
    "type(universally)"
   ]
  },
  {
   "cell_type": "code",
   "execution_count": 65,
   "metadata": {
    "colab": {
     "base_uri": "https://localhost:8080/",
     "height": 1000
    },
    "colab_type": "code",
    "id": "isDW_cqDJ_jq",
    "outputId": "5854615e-0ac3-4d67-fe9d-726fe69a03f9"
   },
   "outputs": [
    {
     "data": {
      "text/plain": [
       "['_',\n",
       " '_fix_dep_copy',\n",
       " '_recalculate_indices',\n",
       " '_vector',\n",
       " '_vector_norm',\n",
       " 'as_doc',\n",
       " 'conjuncts',\n",
       " 'doc',\n",
       " 'end',\n",
       " 'end_char',\n",
       " 'ent_id',\n",
       " 'ent_id_',\n",
       " 'ents',\n",
       " 'get_extension',\n",
       " 'get_lca_matrix',\n",
       " 'has_extension',\n",
       " 'has_vector',\n",
       " 'kb_id',\n",
       " 'kb_id_',\n",
       " 'label',\n",
       " 'label_',\n",
       " 'lefts',\n",
       " 'lemma_',\n",
       " 'lower_',\n",
       " 'merge',\n",
       " 'n_lefts',\n",
       " 'n_rights',\n",
       " 'noun_chunks',\n",
       " 'orth_',\n",
       " 'remove_extension',\n",
       " 'rights',\n",
       " 'root',\n",
       " 'sent',\n",
       " 'sentiment',\n",
       " 'set_extension',\n",
       " 'similarity',\n",
       " 'start',\n",
       " 'start_char',\n",
       " 'string',\n",
       " 'subtree',\n",
       " 'tensor',\n",
       " 'text',\n",
       " 'text_with_ws',\n",
       " 'to_array',\n",
       " 'upper_',\n",
       " 'vector',\n",
       " 'vector_norm',\n",
       " 'vocab']"
      ]
     },
     "execution_count": 65,
     "metadata": {},
     "output_type": "execute_result"
    }
   ],
   "source": [
    "[prop for prop in dir(universally) if not prop.startswith('__')]"
   ]
  },
  {
   "cell_type": "code",
   "execution_count": 136,
   "metadata": {
    "colab": {
     "base_uri": "https://localhost:8080/",
     "height": 34
    },
    "colab_type": "code",
    "id": "XsycKBCMKdTI",
    "outputId": "ba03aac5-72e3-41fb-db77-6fb179bfefbe"
   },
   "outputs": [
    {
     "data": {
      "text/plain": [
       "(0, 617)"
      ]
     },
     "execution_count": 136,
     "metadata": {},
     "output_type": "execute_result"
    }
   ],
   "source": [
    "universally.ent_id, universally.end_char\n"
   ]
  },
  {
   "cell_type": "code",
   "execution_count": 70,
   "metadata": {
    "colab": {
     "base_uri": "https://localhost:8080/",
     "height": 34
    },
    "colab_type": "code",
    "id": "R6Y2E3seim6w",
    "outputId": "2562e24b-d288-464b-d9bd-8dcf132bc71a"
   },
   "outputs": [
    {
     "data": {
      "text/plain": [
       "'“but it is,” returned she; “for mrs. long has just been here, and she\\ntold me all about it.”'"
      ]
     },
     "execution_count": 70,
     "metadata": {},
     "output_type": "execute_result"
    }
   ],
   "source": [
    "universally.lower_"
   ]
  },
  {
   "cell_type": "code",
   "execution_count": 75,
   "metadata": {
    "colab": {
     "base_uri": "https://localhost:8080/",
     "height": 34
    },
    "colab_type": "code",
    "id": "2BfmD-_KLUqG",
    "outputId": "3ec86736-4338-4e22-cabe-fcf8b7d07b8a"
   },
   "outputs": [
    {
     "data": {
      "text/plain": [
       "[“But it is,” returned she; “for Mrs. Long has just been here, and she\n",
       " told me all about it.”\n",
       " ,\n",
       " Mr. Bennet made no answer.\n",
       " ,\n",
       " “Do you not want to know who has taken it?” cried his wife impatiently.\n",
       " ,\n",
       " “_,\n",
       " You_ want to tell me, and I have no objection to hearing it.”\n",
       " ,\n",
       " This was invitation enough.\n",
       " ,\n",
       " “Why, my dear, you must know, Mrs. Long says that Netherfield is taken\n",
       " by a young man of large fortune from the north of England; that he came\n",
       " down on Monday in a chaise and four to see the place, and was so much\n",
       " delighted with it, that he agreed with Mr. Morris immediately; that he\n",
       " is to take possession before Michaelmas, and some of his servants are to\n",
       " be in the house by the end of next week.”\n",
       " ,\n",
       " “What is his name?”\n",
       " ,\n",
       " “Bingley.”\n",
       " ,\n",
       " “Is he married or single?”\n",
       " ,\n",
       " “Oh!,\n",
       " Single, my dear, to be sure!]"
      ]
     },
     "execution_count": 75,
     "metadata": {},
     "output_type": "execute_result"
    }
   ],
   "source": [
    "#prideDoc[universally.sent:universally.ents+1]\n",
    "prideDoc[4:16]"
   ]
  },
  {
   "cell_type": "code",
   "execution_count": 133,
   "metadata": {},
   "outputs": [
    {
     "name": "stdout",
     "output_type": "stream",
     "text": [
      "<class 'list'>\n"
     ]
    }
   ],
   "source": [
    "print(type(prideDoc))"
   ]
  },
  {
   "cell_type": "code",
   "execution_count": 156,
   "metadata": {},
   "outputs": [
    {
     "name": "stdout",
     "output_type": "stream",
     "text": [
      "<class 'spacy.tokens.span.Span'>\n",
      "<class 'spacy.tokens.span.Span'>\n",
      "<class 'spacy.tokens.span.Span'>\n"
     ]
    },
    {
     "name": "stderr",
     "output_type": "stream",
     "text": [
      "C:\\Anaconda3\\lib\\site-packages\\ipykernel_launcher.py:9: DeprecationWarning: The default dtype for empty Series will be 'object' instead of 'float64' in a future version. Specify a dtype explicitly to silence this warning.\n",
      "  if __name__ == '__main__':\n"
     ]
    },
    {
     "data": {
      "text/plain": [
       "Series([], dtype: float64)"
      ]
     },
     "execution_count": 156,
     "metadata": {},
     "output_type": "execute_result"
    }
   ],
   "source": [
    "for word in prideDoc:\n",
    "    print(type(word))\n",
    "    #break\n",
    "    if 'dear' in word.text:\n",
    "        #print(word.end_char)\n",
    "        break\n",
    "        \n",
    "        \n",
    "pd.Series([int(word.end_char) for word in prideDoc if 'dear' in 'word.text'])"
   ]
  },
  {
   "cell_type": "code",
   "execution_count": 160,
   "metadata": {
    "colab": {
     "base_uri": "https://localhost:8080/",
     "height": 395
    },
    "colab_type": "code",
    "id": "4913OKHSPonC",
    "outputId": "59ba51ac-6a18-4d31-cdc0-30a7df97e45a"
   },
   "outputs": [
    {
     "ename": "TypeError",
     "evalue": "Argument 'other' has incorrect type (expected spacy.tokens.token.Token, got str)",
     "output_type": "error",
     "traceback": [
      "\u001b[1;31m---------------------------------------------------------------------------\u001b[0m",
      "\u001b[1;31mTypeError\u001b[0m                                 Traceback (most recent call last)",
      "\u001b[1;32m<ipython-input-160-eeb9391be881>\u001b[0m in \u001b[0;36m<module>\u001b[1;34m\u001b[0m\n\u001b[0;32m      3\u001b[0m \u001b[1;31m#pd.Series([word.i for word in prideDoc if word.text == 'love']).hist(figsize=(12,6))\u001b[0m\u001b[1;33m\u001b[0m\u001b[1;33m\u001b[0m\u001b[1;33m\u001b[0m\u001b[0m\n\u001b[0;32m      4\u001b[0m \u001b[1;33m\u001b[0m\u001b[0m\n\u001b[1;32m----> 5\u001b[1;33m \u001b[0mpd\u001b[0m\u001b[1;33m.\u001b[0m\u001b[0mSeries\u001b[0m\u001b[1;33m(\u001b[0m\u001b[1;33m[\u001b[0m\u001b[0mword\u001b[0m\u001b[1;33m.\u001b[0m\u001b[0mi\u001b[0m \u001b[1;32mfor\u001b[0m \u001b[0mword\u001b[0m \u001b[1;32min\u001b[0m \u001b[0mpride\u001b[0m \u001b[1;32mif\u001b[0m \u001b[0mword\u001b[0m\u001b[1;33m.\u001b[0m\u001b[0mtext\u001b[0m \u001b[1;33m==\u001b[0m \u001b[0mw\u001b[0m\u001b[1;33m]\u001b[0m\u001b[1;33m)\u001b[0m\u001b[1;33m.\u001b[0m\u001b[0mhist\u001b[0m\u001b[1;33m(\u001b[0m\u001b[0mfigsize\u001b[0m\u001b[1;33m=\u001b[0m\u001b[1;33m(\u001b[0m\u001b[1;36m12\u001b[0m\u001b[1;33m,\u001b[0m\u001b[1;36m6\u001b[0m\u001b[1;33m)\u001b[0m\u001b[1;33m)\u001b[0m\u001b[1;33m\u001b[0m\u001b[1;33m\u001b[0m\u001b[0m\n\u001b[0m",
      "\u001b[1;32m<ipython-input-160-eeb9391be881>\u001b[0m in \u001b[0;36m<listcomp>\u001b[1;34m(.0)\u001b[0m\n\u001b[0;32m      3\u001b[0m \u001b[1;31m#pd.Series([word.i for word in prideDoc if word.text == 'love']).hist(figsize=(12,6))\u001b[0m\u001b[1;33m\u001b[0m\u001b[1;33m\u001b[0m\u001b[1;33m\u001b[0m\u001b[0m\n\u001b[0;32m      4\u001b[0m \u001b[1;33m\u001b[0m\u001b[0m\n\u001b[1;32m----> 5\u001b[1;33m \u001b[0mpd\u001b[0m\u001b[1;33m.\u001b[0m\u001b[0mSeries\u001b[0m\u001b[1;33m(\u001b[0m\u001b[1;33m[\u001b[0m\u001b[0mword\u001b[0m\u001b[1;33m.\u001b[0m\u001b[0mi\u001b[0m \u001b[1;32mfor\u001b[0m \u001b[0mword\u001b[0m \u001b[1;32min\u001b[0m \u001b[0mpride\u001b[0m \u001b[1;32mif\u001b[0m \u001b[0mword\u001b[0m\u001b[1;33m.\u001b[0m\u001b[0mtext\u001b[0m \u001b[1;33m==\u001b[0m \u001b[0mw\u001b[0m\u001b[1;33m]\u001b[0m\u001b[1;33m)\u001b[0m\u001b[1;33m.\u001b[0m\u001b[0mhist\u001b[0m\u001b[1;33m(\u001b[0m\u001b[0mfigsize\u001b[0m\u001b[1;33m=\u001b[0m\u001b[1;33m(\u001b[0m\u001b[1;36m12\u001b[0m\u001b[1;33m,\u001b[0m\u001b[1;36m6\u001b[0m\u001b[1;33m)\u001b[0m\u001b[1;33m)\u001b[0m\u001b[1;33m\u001b[0m\u001b[1;33m\u001b[0m\u001b[0m\n\u001b[0m",
      "\u001b[1;31mTypeError\u001b[0m: Argument 'other' has incorrect type (expected spacy.tokens.token.Token, got str)"
     ]
    }
   ],
   "source": [
    "#excl = [sent for sent in pride.sents if '!' in sent.text]\n",
    "#pd.Series([word.end_char  for word in prideDoc if 'dear' in 'word.text']).hist(figsize=(12,6))\n",
    "#pd.Series([word.i for word in prideDoc if word.text == 'love']).hist(figsize=(12,6))\n",
    "\n",
    "pd.Series([word.i for word in pride if word.text == w]).hist(figsize=(12,6))"
   ]
  },
  {
   "cell_type": "markdown",
   "metadata": {
    "colab_type": "text",
    "id": "46K46AtYjiYr"
   },
   "source": [
    "## Side note: on testing for word equality\n",
    "\n",
    "SpaCy tests equality of _tokens_ but not _types_. This means that a word that is orthographically identical to another isn't necessarily identical according to Python's equality (`==`) operator. For example: "
   ]
  },
  {
   "cell_type": "code",
   "execution_count": 79,
   "metadata": {
    "colab": {
     "base_uri": "https://localhost:8080/",
     "height": 34
    },
    "colab_type": "code",
    "id": "P-bpLfZMjPEJ",
    "outputId": "69323e45-80b7-4c31-85bf-03005686e380"
   },
   "outputs": [
    {
     "data": {
      "text/plain": [
       "True"
      ]
     },
     "execution_count": 79,
     "metadata": {},
     "output_type": "execute_result"
    }
   ],
   "source": [
    "universally == universally"
   ]
  },
  {
   "cell_type": "code",
   "execution_count": 80,
   "metadata": {
    "colab": {
     "base_uri": "https://localhost:8080/",
     "height": 34
    },
    "colab_type": "code",
    "id": "jVDEcZSUjbHZ",
    "outputId": "332111ad-41b7-4096-f3c0-5e17671098fe"
   },
   "outputs": [
    {
     "data": {
      "text/plain": [
       "spacy.tokens.span.Span"
      ]
     },
     "execution_count": 80,
     "metadata": {},
     "output_type": "execute_result"
    }
   ],
   "source": [
    "type(universally)"
   ]
  },
  {
   "cell_type": "code",
   "execution_count": 81,
   "metadata": {
    "colab": {},
    "colab_type": "code",
    "id": "1DEDTEqwjTzN"
   },
   "outputs": [],
   "source": [
    "anotherUniversally = nlp(\"universally\")[0]"
   ]
  },
  {
   "cell_type": "code",
   "execution_count": 82,
   "metadata": {
    "colab": {
     "base_uri": "https://localhost:8080/",
     "height": 34
    },
    "colab_type": "code",
    "id": "qD-MMBPQLlej",
    "outputId": "a8ac5446-3719-45fc-d02d-def17259bdf8"
   },
   "outputs": [
    {
     "data": {
      "text/plain": [
       "spacy.tokens.token.Token"
      ]
     },
     "execution_count": 82,
     "metadata": {},
     "output_type": "execute_result"
    }
   ],
   "source": [
    "type(anotherUniversally)"
   ]
  },
  {
   "cell_type": "code",
   "execution_count": 83,
   "metadata": {
    "colab": {
     "base_uri": "https://localhost:8080/",
     "height": 34
    },
    "colab_type": "code",
    "id": "jiYuo5yZLobr",
    "outputId": "d97a7a61-7108-4f7a-8cb6-afa16585c0a8"
   },
   "outputs": [
    {
     "ename": "TypeError",
     "evalue": "Argument 'other' has incorrect type (expected spacy.tokens.span.Span, got spacy.tokens.token.Token)",
     "output_type": "error",
     "traceback": [
      "\u001b[1;31m---------------------------------------------------------------------------\u001b[0m",
      "\u001b[1;31mTypeError\u001b[0m                                 Traceback (most recent call last)",
      "\u001b[1;32m<ipython-input-83-0350ebd50b78>\u001b[0m in \u001b[0;36m<module>\u001b[1;34m\u001b[0m\n\u001b[1;32m----> 1\u001b[1;33m \u001b[0muniversally\u001b[0m \u001b[1;33m==\u001b[0m \u001b[0manotherUniversally\u001b[0m\u001b[1;33m\u001b[0m\u001b[1;33m\u001b[0m\u001b[0m\n\u001b[0m",
      "\u001b[1;31mTypeError\u001b[0m: Argument 'other' has incorrect type (expected spacy.tokens.span.Span, got spacy.tokens.token.Token)"
     ]
    }
   ],
   "source": [
    "universally == anotherUniversally"
   ]
  },
  {
   "cell_type": "code",
   "execution_count": 85,
   "metadata": {
    "colab": {
     "base_uri": "https://localhost:8080/",
     "height": 34
    },
    "colab_type": "code",
    "id": "V7FqZNC6OArk",
    "outputId": "067af575-4ddf-44c1-bd38-4f80ea12bfd6"
   },
   "outputs": [
    {
     "data": {
      "text/plain": [
       "[Long]"
      ]
     },
     "execution_count": 85,
     "metadata": {},
     "output_type": "execute_result"
    }
   ],
   "source": [
    "universally.ents"
   ]
  },
  {
   "cell_type": "code",
   "execution_count": 86,
   "metadata": {
    "colab": {},
    "colab_type": "code",
    "id": "DLHViiEROtcR"
   },
   "outputs": [],
   "source": [
    "bennet = [w for w in pride if w.text == 'Bennet'][0]"
   ]
  },
  {
   "cell_type": "code",
   "execution_count": 87,
   "metadata": {
    "colab": {
     "base_uri": "https://localhost:8080/",
     "height": 34
    },
    "colab_type": "code",
    "id": "tYVsNUg4O0iE",
    "outputId": "b2415492-888d-48f3-c3e1-da44db4fd292"
   },
   "outputs": [
    {
     "data": {
      "text/plain": [
       "380"
      ]
     },
     "execution_count": 87,
     "metadata": {},
     "output_type": "execute_result"
    }
   ],
   "source": [
    "bennet.ent_type"
   ]
  },
  {
   "cell_type": "markdown",
   "metadata": {
    "colab_type": "text",
    "id": "bGGM0XdAMVDA"
   },
   "source": [
    "## Word probability and rank\n",
    "\n",
    "SpaCy maintains data about word probabilities and word rank, according to what it's seen before in its training data. This can be useful for looking at certain slices of a text (its most frequent function words, or its lesser-frequent content words). \n",
    "\n",
    "**Warning:** This only seems to work with `en_core_web_md` and `en_core_web_lg`. "
   ]
  },
  {
   "cell_type": "code",
   "execution_count": 88,
   "metadata": {
    "colab": {
     "base_uri": "https://localhost:8080/",
     "height": 459
    },
    "colab_type": "code",
    "id": "l0r9RcWZjgzF",
    "outputId": "5aa20705-8207-4aa0-d648-e2313fe9db35"
   },
   "outputs": [
    {
     "data": {
      "text/plain": [
       "{('Bingley', 19468),\n",
       " ('Impossible', 16582),\n",
       " ('Kitty', 16496),\n",
       " ('acquaintance', 19142),\n",
       " ('acquainted', 19142),\n",
       " ('chaise', 17220),\n",
       " ('coughing', 17603),\n",
       " ('coughs', 17603),\n",
       " ('delight', 19198),\n",
       " ('exclamation', 18862),\n",
       " ('honour', 15400),\n",
       " ('impatiently', 17909),\n",
       " ('insufficient', 16315),\n",
       " ('morrow', 15967),\n",
       " ('neices', 18507),\n",
       " ('neighbourhood', 17105),\n",
       " ('nieces', 18877),\n",
       " ('persuade', 16836),\n",
       " ('quickness', 19526),\n",
       " ('resentfully', 17755),\n",
       " ('scolding', 16154),\n",
       " ('servants', 15938),\n",
       " ('solace', 16404),\n",
       " ('tumult', 16065),\n",
       " ('vexing', 18170)}"
      ]
     },
     "execution_count": 88,
     "metadata": {},
     "output_type": "execute_result"
    }
   ],
   "source": [
    "set([(w.text, w.rank) for w in pride[:2000] if w.rank > 15000 and w.ent_type == 0])"
   ]
  },
  {
   "cell_type": "code",
   "execution_count": 92,
   "metadata": {
    "colab": {
     "base_uri": "https://localhost:8080/",
     "height": 136
    },
    "colab_type": "code",
    "id": "-y-YfrkLiL2V",
    "outputId": "2e29a1ad-4cce-471d-b256-b6debd2bccc5"
   },
   "outputs": [
    {
     "name": "stdout",
     "output_type": "stream",
     "text": [
      "universally -12.210193634033203\n",
      "acknowledged -12.411476135253906\n",
      "possession -11.476877212524414\n",
      "fortune -12.021092414855957\n"
     ]
    }
   ],
   "source": [
    "for w in next(pride.sents):\n",
    "  if w.prob < -10:\n",
    "    print(w, w.prob)"
   ]
  },
  {
   "cell_type": "code",
   "execution_count": 0,
   "metadata": {
    "colab": {},
    "colab_type": "code",
    "id": "T2uDb9BnMjoH"
   },
   "outputs": [],
   "source": []
  },
  {
   "cell_type": "markdown",
   "metadata": {
    "colab_type": "text",
    "id": "T9-eE8sPMkko"
   },
   "source": [
    "## Using word indices\n",
    "\n",
    "We can use the `.i` property to find the distribution of these words in \"narrative time,\" that is, an index of `1` would mean that it's the second word in the text. "
   ]
  },
  {
   "cell_type": "code",
   "execution_count": 159,
   "metadata": {},
   "outputs": [
    {
     "name": "stdout",
     "output_type": "stream",
     "text": [
      "<class 'spacy.tokens.doc.Doc'>\n"
     ]
    }
   ],
   "source": [
    "print(type(pride))"
   ]
  },
  {
   "cell_type": "code",
   "execution_count": 93,
   "metadata": {
    "colab": {},
    "colab_type": "code",
    "id": "4GOecyGAQPNF"
   },
   "outputs": [],
   "source": [
    "def getIndices(w):\n",
    "  hist, bins = np.histogram(pd.Series([word.i for word in pride if word.text == w]), bins=50)\n",
    "  return hist"
   ]
  },
  {
   "cell_type": "code",
   "execution_count": 94,
   "metadata": {
    "colab": {},
    "colab_type": "code",
    "id": "Pakw2HRlYhFM"
   },
   "outputs": [],
   "source": [
    "wordList = ['love', 'hate', 'pride', 'prejudice']\n",
    "characterList = ['Darcy', 'Elizabeth', 'Jane', 'Bingley']\n",
    "wordIndices = [getIndices(w) for w in wordList]"
   ]
  },
  {
   "cell_type": "code",
   "execution_count": 95,
   "metadata": {
    "colab": {
     "base_uri": "https://localhost:8080/",
     "height": 555
    },
    "colab_type": "code",
    "id": "QMYnND9ZY9cZ",
    "outputId": "a7299ab6-87f4-4590-8114-548889aac496"
   },
   "outputs": [
    {
     "data": {
      "text/plain": [
       "array([<AxesSubplot:>, <AxesSubplot:>, <AxesSubplot:>, <AxesSubplot:>],\n",
       "      dtype=object)"
      ]
     },
     "execution_count": 95,
     "metadata": {},
     "output_type": "execute_result"
    },
    {
     "data": {
      "image/png": "[encoded data removed]",
      "text/plain": [
       "<Figure size 1008x576 with 4 Axes>"
      ]
     },
     "metadata": {
      "needs_background": "light"
     },
     "output_type": "display_data"
    }
   ],
   "source": [
    "wordsDF = pd.DataFrame(wordIndices, index=wordList).T\n",
    "wordsDF.plot(subplots=True, figsize=(14,8))"
   ]
  },
  {
   "cell_type": "markdown",
   "metadata": {
    "colab_type": "text",
    "id": "w_Ra1cp8tk0u"
   },
   "source": []
  },
  {
   "cell_type": "code",
   "execution_count": 96,
   "metadata": {
    "colab": {
     "base_uri": "https://localhost:8080/",
     "height": 124
    },
    "colab_type": "code",
    "id": "k8Gju1HDraiP",
    "outputId": "32a681f1-ddd0-4f65-ad68-f3bb15c5289d"
   },
   "outputs": [
    {
     "data": {
      "text/html": [
       "<style  type=\"text/css\" >\n",
       "#T_5c1ae198_09b7_11eb_a029_4889e7177752row0_col0,#T_5c1ae198_09b7_11eb_a029_4889e7177752row1_col1,#T_5c1ae198_09b7_11eb_a029_4889e7177752row2_col2,#T_5c1ae198_09b7_11eb_a029_4889e7177752row3_col3{\n",
       "            background-color:  #b40426;\n",
       "            color:  #f1f1f1;\n",
       "        }#T_5c1ae198_09b7_11eb_a029_4889e7177752row0_col1{\n",
       "            background-color:  #5f7fe8;\n",
       "            color:  #000000;\n",
       "        }#T_5c1ae198_09b7_11eb_a029_4889e7177752row0_col2{\n",
       "            background-color:  #3c4ec2;\n",
       "            color:  #f1f1f1;\n",
       "        }#T_5c1ae198_09b7_11eb_a029_4889e7177752row0_col3,#T_5c1ae198_09b7_11eb_a029_4889e7177752row1_col2,#T_5c1ae198_09b7_11eb_a029_4889e7177752row2_col0,#T_5c1ae198_09b7_11eb_a029_4889e7177752row2_col1{\n",
       "            background-color:  #3b4cc0;\n",
       "            color:  #f1f1f1;\n",
       "        }#T_5c1ae198_09b7_11eb_a029_4889e7177752row1_col0{\n",
       "            background-color:  #5d7ce6;\n",
       "            color:  #000000;\n",
       "        }#T_5c1ae198_09b7_11eb_a029_4889e7177752row1_col3{\n",
       "            background-color:  #7093f3;\n",
       "            color:  #000000;\n",
       "        }#T_5c1ae198_09b7_11eb_a029_4889e7177752row2_col3{\n",
       "            background-color:  #5470de;\n",
       "            color:  #000000;\n",
       "        }#T_5c1ae198_09b7_11eb_a029_4889e7177752row3_col0{\n",
       "            background-color:  #4b64d5;\n",
       "            color:  #f1f1f1;\n",
       "        }#T_5c1ae198_09b7_11eb_a029_4889e7177752row3_col1{\n",
       "            background-color:  #84a7fc;\n",
       "            color:  #000000;\n",
       "        }#T_5c1ae198_09b7_11eb_a029_4889e7177752row3_col2{\n",
       "            background-color:  #6788ee;\n",
       "            color:  #000000;\n",
       "        }</style><table id=\"T_5c1ae198_09b7_11eb_a029_4889e7177752\" ><thead>    <tr>        <th class=\"blank level0\" ></th>        <th class=\"col_heading level0 col0\" >love</th>        <th class=\"col_heading level0 col1\" >hate</th>        <th class=\"col_heading level0 col2\" >pride</th>        <th class=\"col_heading level0 col3\" >prejudice</th>    </tr></thead><tbody>\n",
       "                <tr>\n",
       "                        <th id=\"T_5c1ae198_09b7_11eb_a029_4889e7177752level0_row0\" class=\"row_heading level0 row0\" >love</th>\n",
       "                        <td id=\"T_5c1ae198_09b7_11eb_a029_4889e7177752row0_col0\" class=\"data row0 col0\" >1.00</td>\n",
       "                        <td id=\"T_5c1ae198_09b7_11eb_a029_4889e7177752row0_col1\" class=\"data row0 col1\" >0.11</td>\n",
       "                        <td id=\"T_5c1ae198_09b7_11eb_a029_4889e7177752row0_col2\" class=\"data row0 col2\" >0.00</td>\n",
       "                        <td id=\"T_5c1ae198_09b7_11eb_a029_4889e7177752row0_col3\" class=\"data row0 col3\" >0.06</td>\n",
       "            </tr>\n",
       "            <tr>\n",
       "                        <th id=\"T_5c1ae198_09b7_11eb_a029_4889e7177752level0_row1\" class=\"row_heading level0 row1\" >hate</th>\n",
       "                        <td id=\"T_5c1ae198_09b7_11eb_a029_4889e7177752row1_col0\" class=\"data row1 col0\" >0.11</td>\n",
       "                        <td id=\"T_5c1ae198_09b7_11eb_a029_4889e7177752row1_col1\" class=\"data row1 col1\" >1.00</td>\n",
       "                        <td id=\"T_5c1ae198_09b7_11eb_a029_4889e7177752row1_col2\" class=\"data row1 col2\" >-0.01</td>\n",
       "                        <td id=\"T_5c1ae198_09b7_11eb_a029_4889e7177752row1_col3\" class=\"data row1 col3\" >0.22</td>\n",
       "            </tr>\n",
       "            <tr>\n",
       "                        <th id=\"T_5c1ae198_09b7_11eb_a029_4889e7177752level0_row2\" class=\"row_heading level0 row2\" >pride</th>\n",
       "                        <td id=\"T_5c1ae198_09b7_11eb_a029_4889e7177752row2_col0\" class=\"data row2 col0\" >0.00</td>\n",
       "                        <td id=\"T_5c1ae198_09b7_11eb_a029_4889e7177752row2_col1\" class=\"data row2 col1\" >-0.01</td>\n",
       "                        <td id=\"T_5c1ae198_09b7_11eb_a029_4889e7177752row2_col2\" class=\"data row2 col2\" >1.00</td>\n",
       "                        <td id=\"T_5c1ae198_09b7_11eb_a029_4889e7177752row2_col3\" class=\"data row2 col3\" >0.14</td>\n",
       "            </tr>\n",
       "            <tr>\n",
       "                        <th id=\"T_5c1ae198_09b7_11eb_a029_4889e7177752level0_row3\" class=\"row_heading level0 row3\" >prejudice</th>\n",
       "                        <td id=\"T_5c1ae198_09b7_11eb_a029_4889e7177752row3_col0\" class=\"data row3 col0\" >0.06</td>\n",
       "                        <td id=\"T_5c1ae198_09b7_11eb_a029_4889e7177752row3_col1\" class=\"data row3 col1\" >0.22</td>\n",
       "                        <td id=\"T_5c1ae198_09b7_11eb_a029_4889e7177752row3_col2\" class=\"data row3 col2\" >0.14</td>\n",
       "                        <td id=\"T_5c1ae198_09b7_11eb_a029_4889e7177752row3_col3\" class=\"data row3 col3\" >1.00</td>\n",
       "            </tr>\n",
       "    </tbody></table>"
      ],
      "text/plain": [
       "<pandas.io.formats.style.Styler at 0x1ae581a7860>"
      ]
     },
     "execution_count": 96,
     "metadata": {},
     "output_type": "execute_result"
    }
   ],
   "source": [
    "wordsDF.corr().style.background_gradient(cmap='coolwarm').set_precision(2)"
   ]
  },
  {
   "cell_type": "code",
   "execution_count": 97,
   "metadata": {
    "colab": {},
    "colab_type": "code",
    "id": "XvYA9ckrlX-J"
   },
   "outputs": [],
   "source": [
    "def narrativeTime(w, text):\n",
    "  return np.histogram(pd.Series([word.i for word in text \n",
    "           if word.lemma_ == w]), 50)[0]\n",
    "\n",
    "def wordCorrelation(wordlist, text):\n",
    "  df = pd.DataFrame([narrativeTime(w, text)\n",
    "                 for w in wordlist], index=wordlist)\n",
    "  return df.T.corr().style.background_gradient(cmap='coolwarm')"
   ]
  },
  {
   "cell_type": "code",
   "execution_count": 98,
   "metadata": {
    "colab": {
     "base_uri": "https://localhost:8080/",
     "height": 126
    },
    "colab_type": "code",
    "id": "HoGe5btdlcAv",
    "outputId": "e1c2788b-658b-4e30-8ce8-6a096eb1f3cf"
   },
   "outputs": [
    {
     "data": {
      "text/html": [
       "<style  type=\"text/css\" >\n",
       "#T_5e4571b8_09b7_11eb_829c_4889e7177752row0_col0,#T_5e4571b8_09b7_11eb_829c_4889e7177752row1_col1,#T_5e4571b8_09b7_11eb_829c_4889e7177752row2_col2,#T_5e4571b8_09b7_11eb_829c_4889e7177752row3_col3{\n",
       "            background-color:  #b40426;\n",
       "            color:  #f1f1f1;\n",
       "        }#T_5e4571b8_09b7_11eb_829c_4889e7177752row0_col1{\n",
       "            background-color:  #4257c9;\n",
       "            color:  #f1f1f1;\n",
       "        }#T_5e4571b8_09b7_11eb_829c_4889e7177752row0_col2,#T_5e4571b8_09b7_11eb_829c_4889e7177752row1_col3,#T_5e4571b8_09b7_11eb_829c_4889e7177752row2_col0,#T_5e4571b8_09b7_11eb_829c_4889e7177752row2_col1{\n",
       "            background-color:  #3b4cc0;\n",
       "            color:  #f1f1f1;\n",
       "        }#T_5e4571b8_09b7_11eb_829c_4889e7177752row0_col3{\n",
       "            background-color:  #5f7fe8;\n",
       "            color:  #000000;\n",
       "        }#T_5e4571b8_09b7_11eb_829c_4889e7177752row1_col0{\n",
       "            background-color:  #93b5fe;\n",
       "            color:  #000000;\n",
       "        }#T_5e4571b8_09b7_11eb_829c_4889e7177752row1_col2{\n",
       "            background-color:  #8caffe;\n",
       "            color:  #000000;\n",
       "        }#T_5e4571b8_09b7_11eb_829c_4889e7177752row2_col3{\n",
       "            background-color:  #97b8ff;\n",
       "            color:  #000000;\n",
       "        }#T_5e4571b8_09b7_11eb_829c_4889e7177752row3_col0{\n",
       "            background-color:  #b1cbfc;\n",
       "            color:  #000000;\n",
       "        }#T_5e4571b8_09b7_11eb_829c_4889e7177752row3_col1{\n",
       "            background-color:  #4055c8;\n",
       "            color:  #f1f1f1;\n",
       "        }#T_5e4571b8_09b7_11eb_829c_4889e7177752row3_col2{\n",
       "            background-color:  #d4dbe6;\n",
       "            color:  #000000;\n",
       "        }</style><table id=\"T_5e4571b8_09b7_11eb_829c_4889e7177752\" ><thead>    <tr>        <th class=\"blank level0\" ></th>        <th class=\"col_heading level0 col0\" >Jane</th>        <th class=\"col_heading level0 col1\" >Elizabeth</th>        <th class=\"col_heading level0 col2\" >Darcy</th>        <th class=\"col_heading level0 col3\" >Bingley</th>    </tr></thead><tbody>\n",
       "                <tr>\n",
       "                        <th id=\"T_5e4571b8_09b7_11eb_829c_4889e7177752level0_row0\" class=\"row_heading level0 row0\" >Jane</th>\n",
       "                        <td id=\"T_5e4571b8_09b7_11eb_829c_4889e7177752row0_col0\" class=\"data row0 col0\" >1.000000</td>\n",
       "                        <td id=\"T_5e4571b8_09b7_11eb_829c_4889e7177752row0_col1\" class=\"data row0 col1\" >0.075799</td>\n",
       "                        <td id=\"T_5e4571b8_09b7_11eb_829c_4889e7177752row0_col2\" class=\"data row0 col2\" >-0.258867</td>\n",
       "                        <td id=\"T_5e4571b8_09b7_11eb_829c_4889e7177752row0_col3\" class=\"data row0 col3\" >0.183711</td>\n",
       "            </tr>\n",
       "            <tr>\n",
       "                        <th id=\"T_5e4571b8_09b7_11eb_829c_4889e7177752level0_row1\" class=\"row_heading level0 row1\" >Elizabeth</th>\n",
       "                        <td id=\"T_5e4571b8_09b7_11eb_829c_4889e7177752row1_col0\" class=\"data row1 col0\" >0.075799</td>\n",
       "                        <td id=\"T_5e4571b8_09b7_11eb_829c_4889e7177752row1_col1\" class=\"data row1 col1\" >1.000000</td>\n",
       "                        <td id=\"T_5e4571b8_09b7_11eb_829c_4889e7177752row1_col2\" class=\"data row1 col2\" >0.051756</td>\n",
       "                        <td id=\"T_5e4571b8_09b7_11eb_829c_4889e7177752row1_col3\" class=\"data row1 col3\" >0.072323</td>\n",
       "            </tr>\n",
       "            <tr>\n",
       "                        <th id=\"T_5e4571b8_09b7_11eb_829c_4889e7177752level0_row2\" class=\"row_heading level0 row2\" >Darcy</th>\n",
       "                        <td id=\"T_5e4571b8_09b7_11eb_829c_4889e7177752row2_col0\" class=\"data row2 col0\" >-0.258867</td>\n",
       "                        <td id=\"T_5e4571b8_09b7_11eb_829c_4889e7177752row2_col1\" class=\"data row2 col1\" >0.051756</td>\n",
       "                        <td id=\"T_5e4571b8_09b7_11eb_829c_4889e7177752row2_col2\" class=\"data row2 col2\" >1.000000</td>\n",
       "                        <td id=\"T_5e4571b8_09b7_11eb_829c_4889e7177752row2_col3\" class=\"data row2 col3\" >0.329778</td>\n",
       "            </tr>\n",
       "            <tr>\n",
       "                        <th id=\"T_5e4571b8_09b7_11eb_829c_4889e7177752level0_row3\" class=\"row_heading level0 row3\" >Bingley</th>\n",
       "                        <td id=\"T_5e4571b8_09b7_11eb_829c_4889e7177752row3_col0\" class=\"data row3 col0\" >0.183711</td>\n",
       "                        <td id=\"T_5e4571b8_09b7_11eb_829c_4889e7177752row3_col1\" class=\"data row3 col1\" >0.072323</td>\n",
       "                        <td id=\"T_5e4571b8_09b7_11eb_829c_4889e7177752row3_col2\" class=\"data row3 col2\" >0.329778</td>\n",
       "                        <td id=\"T_5e4571b8_09b7_11eb_829c_4889e7177752row3_col3\" class=\"data row3 col3\" >1.000000</td>\n",
       "            </tr>\n",
       "    </tbody></table>"
      ],
      "text/plain": [
       "<pandas.io.formats.style.Styler at 0x1ae581d4d68>"
      ]
     },
     "execution_count": 98,
     "metadata": {},
     "output_type": "execute_result"
    }
   ],
   "source": [
    "wordCorrelation(['Jane', 'Elizabeth', 'Darcy', 'Bingley'], \n",
    "                pride)"
   ]
  },
  {
   "cell_type": "markdown",
   "metadata": {
    "colab_type": "text",
    "id": "180sXwcyM6UT"
   },
   "source": [
    "## Exploring named entities"
   ]
  },
  {
   "cell_type": "code",
   "execution_count": 99,
   "metadata": {
    "colab": {
     "base_uri": "https://localhost:8080/",
     "height": 306
    },
    "colab_type": "code",
    "id": "q_t42ZAMlwRK",
    "outputId": "46bab034-b5db-4e9b-e15c-df3293aa529f"
   },
   "outputs": [
    {
     "ename": "NameError",
     "evalue": "name 'grailDoc' is not defined",
     "output_type": "error",
     "traceback": [
      "\u001b[1;31m---------------------------------------------------------------------------\u001b[0m",
      "\u001b[1;31mNameError\u001b[0m                                 Traceback (most recent call last)",
      "\u001b[1;32m<ipython-input-99-320f321b0d49>\u001b[0m in \u001b[0;36m<module>\u001b[1;34m\u001b[0m\n\u001b[1;32m----> 1\u001b[1;33m \u001b[0mset\u001b[0m\u001b[1;33m(\u001b[0m\u001b[1;33m[\u001b[0m\u001b[0mw\u001b[0m\u001b[1;33m.\u001b[0m\u001b[0mlabel_\u001b[0m \u001b[1;32mfor\u001b[0m \u001b[0mw\u001b[0m \u001b[1;32min\u001b[0m \u001b[0mgrailDoc\u001b[0m\u001b[1;33m.\u001b[0m\u001b[0ments\u001b[0m\u001b[1;33m]\u001b[0m\u001b[1;33m)\u001b[0m\u001b[1;33m\u001b[0m\u001b[1;33m\u001b[0m\u001b[0m\n\u001b[0m",
      "\u001b[1;31mNameError\u001b[0m: name 'grailDoc' is not defined"
     ]
    }
   ],
   "source": [
    "set([w.label_ for w in grailDoc.ents])"
   ]
  },
  {
   "cell_type": "code",
   "execution_count": 0,
   "metadata": {
    "colab": {
     "base_uri": "https://localhost:8080/",
     "height": 207
    },
    "colab_type": "code",
    "id": "IGWWzw0Cxnyr",
    "outputId": "842a5a70-4e88-4494-a422-acf6c5dbf73d"
   },
   "outputs": [
    {
     "data": {
      "text/plain": [
       "[The Tale of Sir Robin.  ,\n",
       " The Castle Anthrax?,\n",
       " Oh, wicked, wicked Zoot.  ,\n",
       " HEAD KNIGHT: I cannot tell, suffice to say is one of the words the Knights of Ni cannot hear.,\n",
       " Consult the Book of Armaments!,\n",
       " Once the number three, being the third number, be reached, then lobbest thou thy Holy Hand Grenade of Antioch towards thy foe, who, being naughty in my sight, shall snuff it.',\n",
       " It's Aramaic!,\n",
       " It's the legendary Black Beast of Aaauugh!,\n",
       " [Black Beast of Aaauugh eats BROTHER MAYNARD] ,\n",
       " As the horrendous Black Beast lunged forward, escape for Arthur and his knights seemed hopeless, when suddenly, the animator suffered a fatal heart attack.]"
      ]
     },
     "execution_count": 150,
     "metadata": {
      "tags": []
     },
     "output_type": "execute_result"
    }
   ],
   "source": [
    "entSents = [ent.sent for ent in grailDoc.ents if ent.label_ == 'WORK_OF_ART']\n",
    "entSents"
   ]
  },
  {
   "cell_type": "markdown",
   "metadata": {
    "colab_type": "text",
    "id": "PqvVCe-M9Spw"
   },
   "source": []
  },
  {
   "cell_type": "code",
   "execution_count": 0,
   "metadata": {
    "colab": {
     "base_uri": "https://localhost:8080/",
     "height": 52
    },
    "colab_type": "code",
    "id": "Te5HAuSq819k",
    "outputId": "4e8c8eaa-999a-4f3a-c86f-66074d077d4f"
   },
   "outputs": [
    {
     "data": {
      "text/html": [
       "<div class=\"entities\" style=\"line-height: 2.5; direction: ltr\">Consult \n",
       "<mark class=\"entity\" style=\"background: #f0d0ff; padding: 0.45em 0.6em; margin: 0 0.25em; line-height: 1; border-radius: 0.35em; box-decoration-break: clone; -webkit-box-decoration-break: clone\">\n",
       "    the Book of Armaments\n",
       "    <span style=\"font-size: 0.8em; font-weight: bold; line-height: 1; border-radius: 0.35em; text-transform: uppercase; vertical-align: middle; margin-left: 0.5rem\">WORK_OF_ART</span>\n",
       "</mark>\n",
       "!\n",
       "</div>"
      ],
      "text/plain": [
       "<IPython.core.display.HTML object>"
      ]
     },
     "metadata": {
      "tags": []
     },
     "output_type": "display_data"
    }
   ],
   "source": [
    "spacy.displacy.render(entSents[4], style='ent', jupyter=True)"
   ]
  },
  {
   "cell_type": "markdown",
   "metadata": {
    "colab_type": "text",
    "id": "tnv8EFnhNFDp"
   },
   "source": [
    "## Parts of speech\n",
    "\n",
    "### Get the first fifty nouns in _Pride and Prejudice_"
   ]
  },
  {
   "cell_type": "code",
   "execution_count": 100,
   "metadata": {
    "colab": {
     "base_uri": "https://localhost:8080/",
     "height": 54
    },
    "colab_type": "code",
    "id": "KmOYJoGaNIQt",
    "outputId": "15ec033f-6a53-45df-ad0a-d8af04a2aa15"
   },
   "outputs": [
    {
     "name": "stdout",
     "output_type": "stream",
     "text": [
      "[truth, man, possession, fortune, want, wife, feelings, views, man, neighbourhood, truth, minds, families, property, daughters, lady, day, answer, wife, _, _, objection, invitation, dear, man, fortune, north, chaise, place, possession, servants, house, end, week, name, dear, man, fortune, year, thing, girls, wife, design, Design, Nonsense, _, love, occasion, girls, dear]\n"
     ]
    }
   ],
   "source": [
    "print([w for w in pride if w.pos_ == 'NOUN'][:50])"
   ]
  },
  {
   "cell_type": "markdown",
   "metadata": {
    "colab_type": "text",
    "id": "yebXQk35Q-in"
   },
   "source": [
    "## Dependency Parsing"
   ]
  },
  {
   "cell_type": "code",
   "execution_count": 103,
   "metadata": {
    "colab": {
     "base_uri": "https://localhost:8080/",
     "height": 703
    },
    "colab_type": "code",
    "id": "Y7c_T7Ovxu7R",
    "outputId": "6a3ac243-c56d-4a29-9466-601cdf326b63"
   },
   "outputs": [
    {
     "data": {
      "text/html": [
       "<svg xmlns=\"http://www.w3.org/2000/svg\" xmlns:xlink=\"http://www.w3.org/1999/xlink\" xml:lang=\"en\" id=\"99bba7b0153140c783130c14d10f0d46-0\" class=\"displacy\" width=\"2900\" height=\"662.0\" direction=\"ltr\" style=\"max-width: none; height: 662.0px; color: #000000; background: #ffffff; font-family: Arial; direction: ltr\">\n",
       "<text class=\"displacy-token\" fill=\"currentColor\" text-anchor=\"middle\" y=\"572.0\">\n",
       "    <tspan class=\"displacy-word\" fill=\"currentColor\" x=\"50\">It</tspan>\n",
       "    <tspan class=\"displacy-tag\" dy=\"2em\" fill=\"currentColor\" x=\"50\">PRON</tspan>\n",
       "</text>\n",
       "\n",
       "<text class=\"displacy-token\" fill=\"currentColor\" text-anchor=\"middle\" y=\"572.0\">\n",
       "    <tspan class=\"displacy-word\" fill=\"currentColor\" x=\"200\">is</tspan>\n",
       "    <tspan class=\"displacy-tag\" dy=\"2em\" fill=\"currentColor\" x=\"200\">AUX</tspan>\n",
       "</text>\n",
       "\n",
       "<text class=\"displacy-token\" fill=\"currentColor\" text-anchor=\"middle\" y=\"572.0\">\n",
       "    <tspan class=\"displacy-word\" fill=\"currentColor\" x=\"350\">a truth</tspan>\n",
       "    <tspan class=\"displacy-tag\" dy=\"2em\" fill=\"currentColor\" x=\"350\">NOUN</tspan>\n",
       "</text>\n",
       "\n",
       "<text class=\"displacy-token\" fill=\"currentColor\" text-anchor=\"middle\" y=\"572.0\">\n",
       "    <tspan class=\"displacy-word\" fill=\"currentColor\" x=\"500\">universally</tspan>\n",
       "    <tspan class=\"displacy-tag\" dy=\"2em\" fill=\"currentColor\" x=\"500\">ADV</tspan>\n",
       "</text>\n",
       "\n",
       "<text class=\"displacy-token\" fill=\"currentColor\" text-anchor=\"middle\" y=\"572.0\">\n",
       "    <tspan class=\"displacy-word\" fill=\"currentColor\" x=\"650\">acknowledged,</tspan>\n",
       "    <tspan class=\"displacy-tag\" dy=\"2em\" fill=\"currentColor\" x=\"650\">VERB</tspan>\n",
       "</text>\n",
       "\n",
       "<text class=\"displacy-token\" fill=\"currentColor\" text-anchor=\"middle\" y=\"572.0\">\n",
       "    <tspan class=\"displacy-word\" fill=\"currentColor\" x=\"800\">that</tspan>\n",
       "    <tspan class=\"displacy-tag\" dy=\"2em\" fill=\"currentColor\" x=\"800\">SCONJ</tspan>\n",
       "</text>\n",
       "\n",
       "<text class=\"displacy-token\" fill=\"currentColor\" text-anchor=\"middle\" y=\"572.0\">\n",
       "    <tspan class=\"displacy-word\" fill=\"currentColor\" x=\"950\">a single man</tspan>\n",
       "    <tspan class=\"displacy-tag\" dy=\"2em\" fill=\"currentColor\" x=\"950\">NOUN</tspan>\n",
       "</text>\n",
       "\n",
       "<text class=\"displacy-token\" fill=\"currentColor\" text-anchor=\"middle\" y=\"572.0\">\n",
       "    <tspan class=\"displacy-word\" fill=\"currentColor\" x=\"1100\">in</tspan>\n",
       "    <tspan class=\"displacy-tag\" dy=\"2em\" fill=\"currentColor\" x=\"1100\">ADP</tspan>\n",
       "</text>\n",
       "\n",
       "<text class=\"displacy-token\" fill=\"currentColor\" text-anchor=\"middle\" y=\"572.0\">\n",
       "    <tspan class=\"displacy-word\" fill=\"currentColor\" x=\"1250\">possession</tspan>\n",
       "    <tspan class=\"displacy-tag\" dy=\"2em\" fill=\"currentColor\" x=\"1250\">NOUN</tspan>\n",
       "</text>\n",
       "\n",
       "<text class=\"displacy-token\" fill=\"currentColor\" text-anchor=\"middle\" y=\"572.0\">\n",
       "    <tspan class=\"displacy-word\" fill=\"currentColor\" x=\"1400\">\n",
       "</tspan>\n",
       "    <tspan class=\"displacy-tag\" dy=\"2em\" fill=\"currentColor\" x=\"1400\">SPACE</tspan>\n",
       "</text>\n",
       "\n",
       "<text class=\"displacy-token\" fill=\"currentColor\" text-anchor=\"middle\" y=\"572.0\">\n",
       "    <tspan class=\"displacy-word\" fill=\"currentColor\" x=\"1550\">of</tspan>\n",
       "    <tspan class=\"displacy-tag\" dy=\"2em\" fill=\"currentColor\" x=\"1550\">ADP</tspan>\n",
       "</text>\n",
       "\n",
       "<text class=\"displacy-token\" fill=\"currentColor\" text-anchor=\"middle\" y=\"572.0\">\n",
       "    <tspan class=\"displacy-word\" fill=\"currentColor\" x=\"1700\">a good fortune,</tspan>\n",
       "    <tspan class=\"displacy-tag\" dy=\"2em\" fill=\"currentColor\" x=\"1700\">NOUN</tspan>\n",
       "</text>\n",
       "\n",
       "<text class=\"displacy-token\" fill=\"currentColor\" text-anchor=\"middle\" y=\"572.0\">\n",
       "    <tspan class=\"displacy-word\" fill=\"currentColor\" x=\"1850\">must</tspan>\n",
       "    <tspan class=\"displacy-tag\" dy=\"2em\" fill=\"currentColor\" x=\"1850\">AUX</tspan>\n",
       "</text>\n",
       "\n",
       "<text class=\"displacy-token\" fill=\"currentColor\" text-anchor=\"middle\" y=\"572.0\">\n",
       "    <tspan class=\"displacy-word\" fill=\"currentColor\" x=\"2000\">be</tspan>\n",
       "    <tspan class=\"displacy-tag\" dy=\"2em\" fill=\"currentColor\" x=\"2000\">AUX</tspan>\n",
       "</text>\n",
       "\n",
       "<text class=\"displacy-token\" fill=\"currentColor\" text-anchor=\"middle\" y=\"572.0\">\n",
       "    <tspan class=\"displacy-word\" fill=\"currentColor\" x=\"2150\">in</tspan>\n",
       "    <tspan class=\"displacy-tag\" dy=\"2em\" fill=\"currentColor\" x=\"2150\">ADP</tspan>\n",
       "</text>\n",
       "\n",
       "<text class=\"displacy-token\" fill=\"currentColor\" text-anchor=\"middle\" y=\"572.0\">\n",
       "    <tspan class=\"displacy-word\" fill=\"currentColor\" x=\"2300\">want</tspan>\n",
       "    <tspan class=\"displacy-tag\" dy=\"2em\" fill=\"currentColor\" x=\"2300\">NOUN</tspan>\n",
       "</text>\n",
       "\n",
       "<text class=\"displacy-token\" fill=\"currentColor\" text-anchor=\"middle\" y=\"572.0\">\n",
       "    <tspan class=\"displacy-word\" fill=\"currentColor\" x=\"2450\">of</tspan>\n",
       "    <tspan class=\"displacy-tag\" dy=\"2em\" fill=\"currentColor\" x=\"2450\">ADP</tspan>\n",
       "</text>\n",
       "\n",
       "<text class=\"displacy-token\" fill=\"currentColor\" text-anchor=\"middle\" y=\"572.0\">\n",
       "    <tspan class=\"displacy-word\" fill=\"currentColor\" x=\"2600\">a wife.</tspan>\n",
       "    <tspan class=\"displacy-tag\" dy=\"2em\" fill=\"currentColor\" x=\"2600\">NOUN</tspan>\n",
       "</text>\n",
       "\n",
       "<text class=\"displacy-token\" fill=\"currentColor\" text-anchor=\"middle\" y=\"572.0\">\n",
       "    <tspan class=\"displacy-word\" fill=\"currentColor\" x=\"2750\">\n",
       "\n",
       "</tspan>\n",
       "    <tspan class=\"displacy-tag\" dy=\"2em\" fill=\"currentColor\" x=\"2750\">SPACE</tspan>\n",
       "</text>\n",
       "\n",
       "<g class=\"displacy-arrow\">\n",
       "    <path class=\"displacy-arc\" id=\"arrow-99bba7b0153140c783130c14d10f0d46-0-0\" stroke-width=\"2px\" d=\"M62,527.0 62,502.0 182.0,502.0 182.0,527.0\" fill=\"none\" stroke=\"currentColor\"/>\n",
       "    <text dy=\"1.25em\" style=\"font-size: 0.8em; letter-spacing: 1px\">\n",
       "        <textPath xlink:href=\"#arrow-99bba7b0153140c783130c14d10f0d46-0-0\" class=\"displacy-label\" startOffset=\"50%\" side=\"left\" fill=\"currentColor\" text-anchor=\"middle\">nsubj</textPath>\n",
       "    </text>\n",
       "    <path class=\"displacy-arrowhead\" d=\"M62,529.0 L58,521.0 66,521.0\" fill=\"currentColor\"/>\n",
       "</g>\n",
       "\n",
       "<g class=\"displacy-arrow\">\n",
       "    <path class=\"displacy-arc\" id=\"arrow-99bba7b0153140c783130c14d10f0d46-0-1\" stroke-width=\"2px\" d=\"M212,527.0 212,502.0 332.0,502.0 332.0,527.0\" fill=\"none\" stroke=\"currentColor\"/>\n",
       "    <text dy=\"1.25em\" style=\"font-size: 0.8em; letter-spacing: 1px\">\n",
       "        <textPath xlink:href=\"#arrow-99bba7b0153140c783130c14d10f0d46-0-1\" class=\"displacy-label\" startOffset=\"50%\" side=\"left\" fill=\"currentColor\" text-anchor=\"middle\">attr</textPath>\n",
       "    </text>\n",
       "    <path class=\"displacy-arrowhead\" d=\"M332.0,529.0 L336.0,521.0 328.0,521.0\" fill=\"currentColor\"/>\n",
       "</g>\n",
       "\n",
       "<g class=\"displacy-arrow\">\n",
       "    <path class=\"displacy-arc\" id=\"arrow-99bba7b0153140c783130c14d10f0d46-0-2\" stroke-width=\"2px\" d=\"M512,527.0 512,502.0 632.0,502.0 632.0,527.0\" fill=\"none\" stroke=\"currentColor\"/>\n",
       "    <text dy=\"1.25em\" style=\"font-size: 0.8em; letter-spacing: 1px\">\n",
       "        <textPath xlink:href=\"#arrow-99bba7b0153140c783130c14d10f0d46-0-2\" class=\"displacy-label\" startOffset=\"50%\" side=\"left\" fill=\"currentColor\" text-anchor=\"middle\">advmod</textPath>\n",
       "    </text>\n",
       "    <path class=\"displacy-arrowhead\" d=\"M512,529.0 L508,521.0 516,521.0\" fill=\"currentColor\"/>\n",
       "</g>\n",
       "\n",
       "<g class=\"displacy-arrow\">\n",
       "    <path class=\"displacy-arc\" id=\"arrow-99bba7b0153140c783130c14d10f0d46-0-3\" stroke-width=\"2px\" d=\"M362,527.0 362,477.0 635.0,477.0 635.0,527.0\" fill=\"none\" stroke=\"currentColor\"/>\n",
       "    <text dy=\"1.25em\" style=\"font-size: 0.8em; letter-spacing: 1px\">\n",
       "        <textPath xlink:href=\"#arrow-99bba7b0153140c783130c14d10f0d46-0-3\" class=\"displacy-label\" startOffset=\"50%\" side=\"left\" fill=\"currentColor\" text-anchor=\"middle\">acl</textPath>\n",
       "    </text>\n",
       "    <path class=\"displacy-arrowhead\" d=\"M635.0,529.0 L639.0,521.0 631.0,521.0\" fill=\"currentColor\"/>\n",
       "</g>\n",
       "\n",
       "<g class=\"displacy-arrow\">\n",
       "    <path class=\"displacy-arc\" id=\"arrow-99bba7b0153140c783130c14d10f0d46-0-4\" stroke-width=\"2px\" d=\"M812,527.0 812,402.0 1994.0,402.0 1994.0,527.0\" fill=\"none\" stroke=\"currentColor\"/>\n",
       "    <text dy=\"1.25em\" style=\"font-size: 0.8em; letter-spacing: 1px\">\n",
       "        <textPath xlink:href=\"#arrow-99bba7b0153140c783130c14d10f0d46-0-4\" class=\"displacy-label\" startOffset=\"50%\" side=\"left\" fill=\"currentColor\" text-anchor=\"middle\">mark</textPath>\n",
       "    </text>\n",
       "    <path class=\"displacy-arrowhead\" d=\"M812,529.0 L808,521.0 816,521.0\" fill=\"currentColor\"/>\n",
       "</g>\n",
       "\n",
       "<g class=\"displacy-arrow\">\n",
       "    <path class=\"displacy-arc\" id=\"arrow-99bba7b0153140c783130c14d10f0d46-0-5\" stroke-width=\"2px\" d=\"M962,527.0 962,427.0 1991.0,427.0 1991.0,527.0\" fill=\"none\" stroke=\"currentColor\"/>\n",
       "    <text dy=\"1.25em\" style=\"font-size: 0.8em; letter-spacing: 1px\">\n",
       "        <textPath xlink:href=\"#arrow-99bba7b0153140c783130c14d10f0d46-0-5\" class=\"displacy-label\" startOffset=\"50%\" side=\"left\" fill=\"currentColor\" text-anchor=\"middle\">nsubj</textPath>\n",
       "    </text>\n",
       "    <path class=\"displacy-arrowhead\" d=\"M962,529.0 L958,521.0 966,521.0\" fill=\"currentColor\"/>\n",
       "</g>\n",
       "\n",
       "<g class=\"displacy-arrow\">\n",
       "    <path class=\"displacy-arc\" id=\"arrow-99bba7b0153140c783130c14d10f0d46-0-6\" stroke-width=\"2px\" d=\"M962,527.0 962,502.0 1082.0,502.0 1082.0,527.0\" fill=\"none\" stroke=\"currentColor\"/>\n",
       "    <text dy=\"1.25em\" style=\"font-size: 0.8em; letter-spacing: 1px\">\n",
       "        <textPath xlink:href=\"#arrow-99bba7b0153140c783130c14d10f0d46-0-6\" class=\"displacy-label\" startOffset=\"50%\" side=\"left\" fill=\"currentColor\" text-anchor=\"middle\">prep</textPath>\n",
       "    </text>\n",
       "    <path class=\"displacy-arrowhead\" d=\"M1082.0,529.0 L1086.0,521.0 1078.0,521.0\" fill=\"currentColor\"/>\n",
       "</g>\n",
       "\n",
       "<g class=\"displacy-arrow\">\n",
       "    <path class=\"displacy-arc\" id=\"arrow-99bba7b0153140c783130c14d10f0d46-0-7\" stroke-width=\"2px\" d=\"M1112,527.0 1112,502.0 1232.0,502.0 1232.0,527.0\" fill=\"none\" stroke=\"currentColor\"/>\n",
       "    <text dy=\"1.25em\" style=\"font-size: 0.8em; letter-spacing: 1px\">\n",
       "        <textPath xlink:href=\"#arrow-99bba7b0153140c783130c14d10f0d46-0-7\" class=\"displacy-label\" startOffset=\"50%\" side=\"left\" fill=\"currentColor\" text-anchor=\"middle\">pobj</textPath>\n",
       "    </text>\n",
       "    <path class=\"displacy-arrowhead\" d=\"M1232.0,529.0 L1236.0,521.0 1228.0,521.0\" fill=\"currentColor\"/>\n",
       "</g>\n",
       "\n",
       "<g class=\"displacy-arrow\">\n",
       "    <path class=\"displacy-arc\" id=\"arrow-99bba7b0153140c783130c14d10f0d46-0-8\" stroke-width=\"2px\" d=\"M1262,527.0 1262,502.0 1382.0,502.0 1382.0,527.0\" fill=\"none\" stroke=\"currentColor\"/>\n",
       "    <text dy=\"1.25em\" style=\"font-size: 0.8em; letter-spacing: 1px\">\n",
       "        <textPath xlink:href=\"#arrow-99bba7b0153140c783130c14d10f0d46-0-8\" class=\"displacy-label\" startOffset=\"50%\" side=\"left\" fill=\"currentColor\" text-anchor=\"middle\"></textPath>\n",
       "    </text>\n",
       "    <path class=\"displacy-arrowhead\" d=\"M1382.0,529.0 L1386.0,521.0 1378.0,521.0\" fill=\"currentColor\"/>\n",
       "</g>\n",
       "\n",
       "<g class=\"displacy-arrow\">\n",
       "    <path class=\"displacy-arc\" id=\"arrow-99bba7b0153140c783130c14d10f0d46-0-9\" stroke-width=\"2px\" d=\"M962,527.0 962,452.0 1538.0,452.0 1538.0,527.0\" fill=\"none\" stroke=\"currentColor\"/>\n",
       "    <text dy=\"1.25em\" style=\"font-size: 0.8em; letter-spacing: 1px\">\n",
       "        <textPath xlink:href=\"#arrow-99bba7b0153140c783130c14d10f0d46-0-9\" class=\"displacy-label\" startOffset=\"50%\" side=\"left\" fill=\"currentColor\" text-anchor=\"middle\">prep</textPath>\n",
       "    </text>\n",
       "    <path class=\"displacy-arrowhead\" d=\"M1538.0,529.0 L1542.0,521.0 1534.0,521.0\" fill=\"currentColor\"/>\n",
       "</g>\n",
       "\n",
       "<g class=\"displacy-arrow\">\n",
       "    <path class=\"displacy-arc\" id=\"arrow-99bba7b0153140c783130c14d10f0d46-0-10\" stroke-width=\"2px\" d=\"M1562,527.0 1562,502.0 1682.0,502.0 1682.0,527.0\" fill=\"none\" stroke=\"currentColor\"/>\n",
       "    <text dy=\"1.25em\" style=\"font-size: 0.8em; letter-spacing: 1px\">\n",
       "        <textPath xlink:href=\"#arrow-99bba7b0153140c783130c14d10f0d46-0-10\" class=\"displacy-label\" startOffset=\"50%\" side=\"left\" fill=\"currentColor\" text-anchor=\"middle\">pobj</textPath>\n",
       "    </text>\n",
       "    <path class=\"displacy-arrowhead\" d=\"M1682.0,529.0 L1686.0,521.0 1678.0,521.0\" fill=\"currentColor\"/>\n",
       "</g>\n",
       "\n",
       "<g class=\"displacy-arrow\">\n",
       "    <path class=\"displacy-arc\" id=\"arrow-99bba7b0153140c783130c14d10f0d46-0-11\" stroke-width=\"2px\" d=\"M1862,527.0 1862,502.0 1982.0,502.0 1982.0,527.0\" fill=\"none\" stroke=\"currentColor\"/>\n",
       "    <text dy=\"1.25em\" style=\"font-size: 0.8em; letter-spacing: 1px\">\n",
       "        <textPath xlink:href=\"#arrow-99bba7b0153140c783130c14d10f0d46-0-11\" class=\"displacy-label\" startOffset=\"50%\" side=\"left\" fill=\"currentColor\" text-anchor=\"middle\">aux</textPath>\n",
       "    </text>\n",
       "    <path class=\"displacy-arrowhead\" d=\"M1862,529.0 L1858,521.0 1866,521.0\" fill=\"currentColor\"/>\n",
       "</g>\n",
       "\n",
       "<g class=\"displacy-arrow\">\n",
       "    <path class=\"displacy-arc\" id=\"arrow-99bba7b0153140c783130c14d10f0d46-0-12\" stroke-width=\"2px\" d=\"M362,527.0 362,377.0 1997.0,377.0 1997.0,527.0\" fill=\"none\" stroke=\"currentColor\"/>\n",
       "    <text dy=\"1.25em\" style=\"font-size: 0.8em; letter-spacing: 1px\">\n",
       "        <textPath xlink:href=\"#arrow-99bba7b0153140c783130c14d10f0d46-0-12\" class=\"displacy-label\" startOffset=\"50%\" side=\"left\" fill=\"currentColor\" text-anchor=\"middle\">acl</textPath>\n",
       "    </text>\n",
       "    <path class=\"displacy-arrowhead\" d=\"M1997.0,529.0 L2001.0,521.0 1993.0,521.0\" fill=\"currentColor\"/>\n",
       "</g>\n",
       "\n",
       "<g class=\"displacy-arrow\">\n",
       "    <path class=\"displacy-arc\" id=\"arrow-99bba7b0153140c783130c14d10f0d46-0-13\" stroke-width=\"2px\" d=\"M2012,527.0 2012,502.0 2132.0,502.0 2132.0,527.0\" fill=\"none\" stroke=\"currentColor\"/>\n",
       "    <text dy=\"1.25em\" style=\"font-size: 0.8em; letter-spacing: 1px\">\n",
       "        <textPath xlink:href=\"#arrow-99bba7b0153140c783130c14d10f0d46-0-13\" class=\"displacy-label\" startOffset=\"50%\" side=\"left\" fill=\"currentColor\" text-anchor=\"middle\">prep</textPath>\n",
       "    </text>\n",
       "    <path class=\"displacy-arrowhead\" d=\"M2132.0,529.0 L2136.0,521.0 2128.0,521.0\" fill=\"currentColor\"/>\n",
       "</g>\n",
       "\n",
       "<g class=\"displacy-arrow\">\n",
       "    <path class=\"displacy-arc\" id=\"arrow-99bba7b0153140c783130c14d10f0d46-0-14\" stroke-width=\"2px\" d=\"M2162,527.0 2162,502.0 2282.0,502.0 2282.0,527.0\" fill=\"none\" stroke=\"currentColor\"/>\n",
       "    <text dy=\"1.25em\" style=\"font-size: 0.8em; letter-spacing: 1px\">\n",
       "        <textPath xlink:href=\"#arrow-99bba7b0153140c783130c14d10f0d46-0-14\" class=\"displacy-label\" startOffset=\"50%\" side=\"left\" fill=\"currentColor\" text-anchor=\"middle\">pobj</textPath>\n",
       "    </text>\n",
       "    <path class=\"displacy-arrowhead\" d=\"M2282.0,529.0 L2286.0,521.0 2278.0,521.0\" fill=\"currentColor\"/>\n",
       "</g>\n",
       "\n",
       "<g class=\"displacy-arrow\">\n",
       "    <path class=\"displacy-arc\" id=\"arrow-99bba7b0153140c783130c14d10f0d46-0-15\" stroke-width=\"2px\" d=\"M2312,527.0 2312,502.0 2432.0,502.0 2432.0,527.0\" fill=\"none\" stroke=\"currentColor\"/>\n",
       "    <text dy=\"1.25em\" style=\"font-size: 0.8em; letter-spacing: 1px\">\n",
       "        <textPath xlink:href=\"#arrow-99bba7b0153140c783130c14d10f0d46-0-15\" class=\"displacy-label\" startOffset=\"50%\" side=\"left\" fill=\"currentColor\" text-anchor=\"middle\">prep</textPath>\n",
       "    </text>\n",
       "    <path class=\"displacy-arrowhead\" d=\"M2432.0,529.0 L2436.0,521.0 2428.0,521.0\" fill=\"currentColor\"/>\n",
       "</g>\n",
       "\n",
       "<g class=\"displacy-arrow\">\n",
       "    <path class=\"displacy-arc\" id=\"arrow-99bba7b0153140c783130c14d10f0d46-0-16\" stroke-width=\"2px\" d=\"M212,527.0 212,352.0 2600.0,352.0 2600.0,527.0\" fill=\"none\" stroke=\"currentColor\"/>\n",
       "    <text dy=\"1.25em\" style=\"font-size: 0.8em; letter-spacing: 1px\">\n",
       "        <textPath xlink:href=\"#arrow-99bba7b0153140c783130c14d10f0d46-0-16\" class=\"displacy-label\" startOffset=\"50%\" side=\"left\" fill=\"currentColor\" text-anchor=\"middle\">punct</textPath>\n",
       "    </text>\n",
       "    <path class=\"displacy-arrowhead\" d=\"M2600.0,529.0 L2604.0,521.0 2596.0,521.0\" fill=\"currentColor\"/>\n",
       "</g>\n",
       "\n",
       "<g class=\"displacy-arrow\">\n",
       "    <path class=\"displacy-arc\" id=\"arrow-99bba7b0153140c783130c14d10f0d46-0-17\" stroke-width=\"2px\" d=\"M2612,527.0 2612,502.0 2732.0,502.0 2732.0,527.0\" fill=\"none\" stroke=\"currentColor\"/>\n",
       "    <text dy=\"1.25em\" style=\"font-size: 0.8em; letter-spacing: 1px\">\n",
       "        <textPath xlink:href=\"#arrow-99bba7b0153140c783130c14d10f0d46-0-17\" class=\"displacy-label\" startOffset=\"50%\" side=\"left\" fill=\"currentColor\" text-anchor=\"middle\"></textPath>\n",
       "    </text>\n",
       "    <path class=\"displacy-arrowhead\" d=\"M2732.0,529.0 L2736.0,521.0 2728.0,521.0\" fill=\"currentColor\"/>\n",
       "</g>\n",
       "</svg>"
      ],
      "text/plain": [
       "<IPython.core.display.HTML object>"
      ]
     },
     "metadata": {},
     "output_type": "display_data"
    }
   ],
   "source": [
    "spacy.displacy.render(next(pride.sents), jupyter=True, options={'compact': True, 'collapse_punct': True, 'collapse_phrases': True})"
   ]
  },
  {
   "cell_type": "markdown",
   "metadata": {
    "colab_type": "text",
    "id": "cJ6tmrLemIQj"
   },
   "source": [
    "## Navigating the dependency-parsed tree\n",
    "\n",
    "We can use the `root` method to find the root verb of a sentence, and the `.children` and `.ancestors` properties to navigate up and down the tree. "
   ]
  },
  {
   "cell_type": "code",
   "execution_count": 104,
   "metadata": {
    "colab": {
     "base_uri": "https://localhost:8080/",
     "height": 34
    },
    "colab_type": "code",
    "id": "4TFX9--KmAQR",
    "outputId": "46a4c21d-ef47-44fc-9979-5071a3a42c3c"
   },
   "outputs": [
    {
     "data": {
      "text/plain": [
       "is"
      ]
     },
     "execution_count": 104,
     "metadata": {},
     "output_type": "execute_result"
    }
   ],
   "source": [
    "pride1 = next(pride.sents)\n",
    "pride1.root"
   ]
  },
  {
   "cell_type": "code",
   "execution_count": 105,
   "metadata": {
    "colab": {
     "base_uri": "https://localhost:8080/",
     "height": 34
    },
    "colab_type": "code",
    "id": "wzWroOq8mDnl",
    "outputId": "eb33b4a3-b65e-479d-89db-c01785c26205"
   },
   "outputs": [
    {
     "data": {
      "text/plain": [
       "[It, truth, .]"
      ]
     },
     "execution_count": 105,
     "metadata": {},
     "output_type": "execute_result"
    }
   ],
   "source": [
    "list(pride1.root.children)"
   ]
  },
  {
   "cell_type": "code",
   "execution_count": null,
   "metadata": {},
   "outputs": [],
   "source": []
  }
 ],
 "metadata": {
  "colab": {
   "name": "spacy.ipynb",
   "provenance": []
  },
  "kernelspec": {
   "display_name": "Python 3",
   "language": "python",
   "name": "python3"
  },
  "language_info": {
   "codemirror_mode": {
    "name": "ipython",
    "version": 3
   },
   "file_extension": ".py",
   "mimetype": "text/x-python",
   "name": "python",
   "nbconvert_exporter": "python",
   "pygments_lexer": "ipython3",
   "version": "3.7.3"
  }
 },
 "nbformat": 4,
 "nbformat_minor": 1
}
