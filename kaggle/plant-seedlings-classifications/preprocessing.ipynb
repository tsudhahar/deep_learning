{
 "cells": [
  {
   "cell_type": "code",
   "execution_count": null,
   "metadata": {},
   "outputs": [],
   "source": [
    "from keras.preprocessing.image import *\n",
    "\n",
    "from tqdm import tqdm\n",
    "\n",
    "import numpy as np\n",
    "import pandas as pd\n",
    "\n",
    "import matplotlib.pyplot as plt\n",
    "import matplotlib.cm as cm\n",
    "import matplotlib.image as mpimg\n",
    "from sklearn.model_selection import train_test_split\n",
    "import csv\n",
    "import cv2\n",
    "\n",
    "import os\n",
    "from PIL import Image\n",
    "\n",
    "from glob import glob\n",
    "\n",
    "%matplotlib inline\n",
    "from jupyterthemes import jtplot\n",
    "\n",
    "jtplot.style()"
   ]
  },
  {
   "cell_type": "markdown",
   "metadata": {},
   "source": [
    "## Read train images"
   ]
  },
  {
   "cell_type": "code",
   "execution_count": null,
   "metadata": {},
   "outputs": [],
   "source": [
    "images_per_class = {}\n",
    "\n",
    "for class_label in tqdm(os.listdir('train')):\n",
    "    class_folder_path = 'train/%s' % class_label\n",
    "    images_per_class[class_label] = []\n",
    "    for image_path in glob(os.path.join(class_folder_path, \"*.png\")):\n",
    "        image = img_to_array(load_img(image_path, target_size=(224, 224, 3)))\n",
    "        images_per_class[class_label].append(image)"
   ]
  },
  {
   "cell_type": "markdown",
   "metadata": {},
   "source": [
    "\n",
    "### Number of images per class"
   ]
  },
  {
   "cell_type": "code",
   "execution_count": null,
   "metadata": {},
   "outputs": [],
   "source": [
    "total = 0\n",
    "categories = []\n",
    "for key, value in sorted(images_per_class.items()):\n",
    "    print(\"{0} -> {1}\".format(key, len(value)))\n",
    "    total+= len(value)\n",
    "    categories.append(key)\n",
    "print('Total Images', total)\n",
    "print(categories)"
   ]
  },
  {
   "cell_type": "markdown",
   "metadata": {},
   "source": [
    "### Plot images"
   ]
  },
  {
   "cell_type": "code",
   "execution_count": null,
   "metadata": {
    "collapsed": true
   },
   "outputs": [],
   "source": [
    "def plot_for_class(label):\n",
    "    nb_rows = 3\n",
    "    nb_cols = 3\n",
    "    fig, axs = plt.subplots(nb_rows, nb_cols, figsize=(6, 6))\n",
    "\n",
    "    n = 0\n",
    "    for i in range(0, nb_rows):\n",
    "        for j in range(0, nb_cols):\n",
    "            axs[i, j].xaxis.set_ticklabels([])\n",
    "            axs[i, j].yaxis.set_ticklabels([])\n",
    "            axs[i, j].imshow(images_per_class[label][n].astype('uint8'))\n",
    "            n += 1        "
   ]
  },
  {
   "cell_type": "code",
   "execution_count": null,
   "metadata": {},
   "outputs": [],
   "source": [
    "plot_for_class('Fat Hen')"
   ]
  },
  {
   "cell_type": "markdown",
   "metadata": {},
   "source": [
    "## preprocess images"
   ]
  },
  {
   "cell_type": "code",
   "execution_count": null,
   "metadata": {
    "collapsed": true
   },
   "outputs": [],
   "source": [
    "def create_mask_for_plant(image):\n",
    "    image_hsv = cv2.cvtColor(image, cv2.COLOR_BGR2HSV)\n",
    "\n",
    "    sensitivity = 35\n",
    "    lower_hsv = np.array([60 - sensitivity, 100, 50])\n",
    "    upper_hsv = np.array([60 + sensitivity, 255, 255])\n",
    "\n",
    "    mask = cv2.inRange(image_hsv, lower_hsv, upper_hsv)\n",
    "    kernel = cv2.getStructuringElement(cv2.MORPH_ELLIPSE, (11,11))\n",
    "    mask = cv2.morphologyEx(mask, cv2.MORPH_CLOSE, kernel)\n",
    "    \n",
    "    return mask\n",
    "\n",
    "def segment_plant(image):\n",
    "    mask = create_mask_for_plant(image)\n",
    "    output = cv2.bitwise_and(image, image, mask = mask)\n",
    "    return output\n",
    "\n",
    "def sharpen_image(image):\n",
    "    image_blurred = cv2.GaussianBlur(image, (0, 0), 3)\n",
    "    image_sharp = cv2.addWeighted(image, 1.5, image_blurred, -0.5, 0)\n",
    "    return image_sharp"
   ]
  },
  {
   "cell_type": "code",
   "execution_count": null,
   "metadata": {},
   "outputs": [],
   "source": [
    "# Test image to see the changes\n",
    "image = images_per_class[\"Small-flowered Cranesbill\"][97].astype('uint8')\n",
    "\n",
    "image_mask = create_mask_for_plant(image)\n",
    "image_segmented = segment_plant(image)\n",
    "image_sharpen = sharpen_image(image_segmented)\n",
    "\n",
    "fig, axs = plt.subplots(1, 4, figsize=(20, 20))\n",
    "axs[0].imshow(image.astype('uint8'))\n",
    "axs[1].imshow(image_mask)\n",
    "axs[2].imshow(image_segmented)\n",
    "axs[3].imshow(image_sharpen)"
   ]
  },
  {
   "cell_type": "code",
   "execution_count": null,
   "metadata": {
    "collapsed": true
   },
   "outputs": [],
   "source": [
    "def get_sharp_image(image):\n",
    "    image = image.astype('uint8')\n",
    "    image_mask = create_mask_for_plant(image)\n",
    "    image_segmented = segment_plant(image)\n",
    "    image_sharpen = sharpen_image(image_segmented)\n",
    "    return image_sharpen"
   ]
  },
  {
   "cell_type": "code",
   "execution_count": null,
   "metadata": {},
   "outputs": [],
   "source": [
    "X_train = []\n",
    "Y_train = np.zeros((4750, 12))\n",
    "categories = ['Black-grass', 'Charlock', 'Cleavers', 'Common Chickweed', 'Common wheat', 'Fat Hen', 'Loose Silky-bent', 'Maize', 'Scentless Mayweed', 'Shepherds Purse', 'Small-flowered Cranesbill', 'Sugar beet']\n",
    "i = 0\n",
    "for class_label in tqdm(images_per_class):\n",
    "    for image in images_per_class[class_label]:\n",
    "        sharpened_image = get_sharp_image(image)\n",
    "        X_train.append(sharpened_image)\n",
    "        Y_train[i, categories.index(class_label)] = 1\n",
    "        i+=1\n",
    "        \n",
    "X_train = np.asarray(X_train)"
   ]
  },
  {
   "cell_type": "code",
   "execution_count": null,
   "metadata": {},
   "outputs": [],
   "source": [
    "plt.imshow(X_train[0]), categories[np.argmax(Y_train[0])]"
   ]
  },
  {
   "cell_type": "code",
   "execution_count": null,
   "metadata": {
    "collapsed": true
   },
   "outputs": [],
   "source": [
    "np.save('data/preprocessed/X_train.npy', X_train)\n",
    "np.save('data/preprocessed/Y_train.npy', Y_train)"
   ]
  },
  {
   "cell_type": "code",
   "execution_count": null,
   "metadata": {},
   "outputs": [],
   "source": [
    "X_train_woseg = []\n",
    "Y_train_woseg = np.zeros((4750, 12))\n",
    "categories = ['Black-grass', 'Charlock', 'Cleavers', 'Common Chickweed', 'Common wheat', 'Fat Hen', 'Loose Silky-bent', 'Maize', 'Scentless Mayweed', 'Shepherds Purse', 'Small-flowered Cranesbill', 'Sugar beet']\n",
    "i = 0\n",
    "for class_label in tqdm(images_per_class):\n",
    "    for image in images_per_class[class_label]:\n",
    "        X_train_woseg.append(image)\n",
    "        Y_train_woseg[i, categories.index(class_label)] = 1\n",
    "        i+=1\n",
    "        \n",
    "X_train_woseg = np.asarray(X_train_woseg)"
   ]
  },
  {
   "cell_type": "code",
   "execution_count": null,
   "metadata": {
    "collapsed": true
   },
   "outputs": [],
   "source": [
    "np.save('data/preprocessed/X_train_woseg.npy', X_train_woseg)\n",
    "np.save('data/preprocessed/Y_train_woseg.npy', Y_train_woseg)"
   ]
  },
  {
   "cell_type": "markdown",
   "metadata": {},
   "source": [
    "## load test images and save them as npy file"
   ]
  },
  {
   "cell_type": "code",
   "execution_count": null,
   "metadata": {},
   "outputs": [],
   "source": [
    "test = pd.read_csv('sample_submission.csv')\n",
    "X_test = []\n",
    "for fname in tqdm(test['file']):\n",
    "    img = img_to_array(load_img('test/{}'.format(fname), target_size=(224, 224, 3)))\n",
    "    X_test.append(get_sharpen_image(img))\n",
    "    \n",
    "X_test = np.asarray(X_test)\n",
    "np.save('data/preprocessed/X_test.npy', X_test)"
   ]
  },
  {
   "cell_type": "code",
   "execution_count": null,
   "metadata": {},
   "outputs": [],
   "source": [
    "plt.imshow(X_test[12])"
   ]
  },
  {
   "cell_type": "code",
   "execution_count": null,
   "metadata": {},
   "outputs": [],
   "source": [
    "test = pd.read_csv('sample_submission.csv')\n",
    "X_test_woseg = []\n",
    "for fname in tqdm(test['file']):\n",
    "    img = img_to_array(load_img('test/{}'.format(fname), target_size=(224, 224, 3)))\n",
    "    X_test_woseg.append(img)\n",
    "    \n",
    "X_test_woseg = np.asarray(X_test_woseg)\n",
    "np.save('data/preprocessed/X_test_woseg.npy', X_test_woseg)"
   ]
  }
 ],
 "metadata": {
  "kernelspec": {
   "display_name": "Python [conda env:ML2]",
   "language": "python",
   "name": "conda-env-ML2-py"
  },
  "language_info": {
   "codemirror_mode": {
    "name": "ipython",
    "version": 3
   },
   "file_extension": ".py",
   "mimetype": "text/x-python",
   "name": "python",
   "nbconvert_exporter": "python",
   "pygments_lexer": "ipython3",
   "version": "3.6.3"
  }
 },
 "nbformat": 4,
 "nbformat_minor": 2
}
