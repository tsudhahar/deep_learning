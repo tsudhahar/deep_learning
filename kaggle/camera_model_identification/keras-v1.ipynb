{
 "cells": [
  {
   "cell_type": "code",
   "execution_count": null,
   "metadata": {
    "_cell_guid": "6764c4d6-21f8-46aa-911e-09034f29acc0",
    "_uuid": "83eb2162c9c0bd3dbbb5333182d9e61acb5a5bdf"
   },
   "outputs": [],
   "source": [
    "import tensorflow as tf\n",
    "config = tf.ConfigProto()\n",
    "config.gpu_options.allow_growth = True\n",
    "config.gpu_options.per_process_gpu_memory_fraction = 0.4\n",
    "sess = tf.Session(config=config)\n",
    "import numpy as np \n",
    "import pandas as pd\n",
    "from glob import glob\n",
    "from tqdm import tqdm\n",
    "import matplotlib.pyplot as plt\n",
    "from keras.models import *\n",
    "from keras.layers import *\n",
    "from keras.optimizers import *\n",
    "from keras.applications.vgg16 import VGG16\n",
    "from keras.applications.inception_v3 import InceptionV3\n",
    "from keras.callbacks import EarlyStopping\n",
    "from keras.utils import plot_model\n",
    "from keras.preprocessing.image import ImageDataGenerator, load_img, img_to_array\n",
    "from sklearn.model_selection import train_test_split\n",
    "from tqdm import tqdm\n",
    "from utils import plot_training\n",
    "%matplotlib inline"
   ]
  },
  {
   "cell_type": "code",
   "execution_count": null,
   "metadata": {
    "_cell_guid": "21fbf77d-ecc1-43a6-b28a-e681cfa4c092",
    "_uuid": "e0011027cda5aaeec859941f70d184248dad2b9d"
   },
   "outputs": [],
   "source": [
    "datagen = ImageDataGenerator(rescale=1./255)\n",
    "train_generator = datagen.flow_from_directory(\n",
    "        'data/train/',  \n",
    "        batch_size=1,\n",
    "        class_mode='categorical')"
   ]
  },
  {
   "cell_type": "code",
   "execution_count": null,
   "metadata": {
    "_cell_guid": "435df950-3b7a-4b90-806f-e710d3530069",
    "_uuid": "5a549ba3eecd321b97bfc4bcc6b7ff29efeb2c4d"
   },
   "outputs": [],
   "source": [
    "# let's have a look at the images\n",
    "x, y = train_generator.next()\n",
    "plt.imshow((x[0]*255).astype('uint8'));\n",
    "print(list(train_generator.class_indices.keys())[np.argmax(y)])"
   ]
  },
  {
   "cell_type": "code",
   "execution_count": null,
   "metadata": {
    "_cell_guid": "1e68570c-57ea-4401-b901-af72602c2605",
    "_uuid": "fef53824681f47e26100d365b86b8c9fb678a39f",
    "collapsed": true
   },
   "outputs": [],
   "source": [
    "# X_data, Y_data = [], []\n",
    "# for _ in tqdm(range(2750)):\n",
    "#     x, y = train_generator.next()\n",
    "#     X_data.append(x[0])\n",
    "#     Y_data.append(y[0])\n",
    "# X_data = np.asarray(X_data)\n",
    "# Y_data = np.asarray(Y_data)\n",
    "# np.save('data/X_data.npy', X_data)\n",
    "# np.save('data/Y_data.npy', Y_data)"
   ]
  },
  {
   "cell_type": "code",
   "execution_count": null,
   "metadata": {
    "collapsed": true
   },
   "outputs": [],
   "source": [
    "X_data = np.load('data/X_data.npy')\n",
    "Y_data = np.load('data/Y_data.npy')"
   ]
  },
  {
   "cell_type": "code",
   "execution_count": null,
   "metadata": {
    "_cell_guid": "319c1dc7-1dc4-44d2-9308-145dc0ae1cfc",
    "_uuid": "cf205c9ae3b189e2dda527594ce2ab8e95e64bbe",
    "collapsed": true
   },
   "outputs": [],
   "source": [
    "def get_model():\n",
    "    input_img = Input((256, 256, 3))\n",
    "    X = BatchNormalization()(input_img)\n",
    "    X = Convolution2D(16, (3, 3), activation='relu')(X)\n",
    "    X = BatchNormalization()(X)\n",
    "    X = Convolution2D(16, (3, 3), activation='relu')(X)\n",
    "    X = MaxPooling2D()(X)\n",
    "    X = Convolution2D(32, (3, 3), activation='relu')(X)\n",
    "    X = BatchNormalization()(X)\n",
    "    X = Convolution2D(32, (3, 3), activation='relu')(X)\n",
    "#     X = GlobalMaxPooling2D()(X)\n",
    "    X = Flatten()(X)\n",
    "    X = BatchNormalization()(X)\n",
    "    X = Dense(512, activation='relu')(X)\n",
    "    X = Dropout(0.2)(X)\n",
    "    X = Dense(10, activation='softmax')(X)\n",
    "    model = Model(inputs=input_img, outputs=X)\n",
    "\n",
    "    model.compile(optimizer='adam', loss='categorical_crossentropy', \n",
    "                  metrics=['acc'])\n",
    "#     model.summary()\n",
    "    return model"
   ]
  },
  {
   "cell_type": "code",
   "execution_count": null,
   "metadata": {
    "_cell_guid": "994b49b5-45b2-41e9-9ebe-47a25d0a0345",
    "_uuid": "fd044b84539055e7b13ca7afaba397014014a0f6",
    "collapsed": true
   },
   "outputs": [],
   "source": [
    "model = get_model()"
   ]
  },
  {
   "cell_type": "code",
   "execution_count": null,
   "metadata": {
    "_cell_guid": "0684b2ee-7d39-47b0-969b-2c0ce58bee65",
    "_uuid": "6269c944ea56e36aa318e407a05812b905e7fb95"
   },
   "outputs": [],
   "source": [
    "model_history = model.fit(X_data, Y_data, batch_size=300, epochs=10, validation_split=0.2,\n",
    "                          callbacks=[EarlyStopping(monitor='val_acc', patience=3, verbose=1)])"
   ]
  },
  {
   "cell_type": "code",
   "execution_count": null,
   "metadata": {},
   "outputs": [],
   "source": [
    "plot_training(model_history)"
   ]
  },
  {
   "cell_type": "code",
   "execution_count": null,
   "metadata": {
    "_cell_guid": "96a5d10b-96ab-4430-891c-b6a87c32d9d0",
    "_uuid": "e4296cb7b854d07c1e95cdf4679f8c7b15365517"
   },
   "outputs": [],
   "source": [
    "# load test images\n",
    "X_test = []\n",
    "sub = pd.read_csv('data/sample_submission.csv')\n",
    "\n",
    "for fname in tqdm(sub['fname']):\n",
    "    filepath = 'data/test/' + fname\n",
    "    X_test.append(img_to_array(load_img(filepath, target_size=(256, 256))))\n",
    "X_test = np.asarray(X_test)"
   ]
  },
  {
   "cell_type": "code",
   "execution_count": null,
   "metadata": {
    "_cell_guid": "8d920bf5-35c7-452b-82da-bb124d34d568",
    "_uuid": "c9e760d383a6b978db334d25d4bd2144927d7dec"
   },
   "outputs": [],
   "source": [
    "classes = ['HTC-1-M7', 'LG-Nexus-5x', 'Motorola-Droid-Maxx', 'Motorola-Nexus-6', 'Motorola-X', \n",
    "           'Samsung-Galaxy-Note3', 'Samsung-Galaxy-S4','Sony-NEX-7','iPhone-4s','iPhone-6']\n",
    "preds = model.predict(X_test, verbose=1)\n",
    "preds = np.argmax(preds, axis=1)\n",
    "preds = [classes[p] for p in tqdm(preds)]"
   ]
  },
  {
   "cell_type": "code",
   "execution_count": null,
   "metadata": {
    "_cell_guid": "18eeacdd-9b05-426e-b6f5-e9da4e0a70ed",
    "_uuid": "42bd027dad7b2e8a3d2757f7e68159d8bed1cb8c",
    "collapsed": true
   },
   "outputs": [],
   "source": [
    "sub['camera'] = preds\n",
    "sub.to_csv('sub.csv', index=False)"
   ]
  },
  {
   "cell_type": "code",
   "execution_count": null,
   "metadata": {
    "_cell_guid": "d3309a22-0ebf-4896-94f3-89909b60d53c",
    "_uuid": "2f247281e722786f627ed4878b1b8be1d3a1155e"
   },
   "outputs": [],
   "source": [
    "sub.head()"
   ]
  },
  {
   "cell_type": "code",
   "execution_count": null,
   "metadata": {
    "collapsed": true
   },
   "outputs": [],
   "source": []
  }
 ],
 "metadata": {
  "kernelspec": {
   "display_name": "Python [conda env:ML2]",
   "language": "python",
   "name": "conda-env-ML2-py"
  },
  "language_info": {
   "codemirror_mode": {
    "name": "ipython",
    "version": 3
   },
   "file_extension": ".py",
   "mimetype": "text/x-python",
   "name": "python",
   "nbconvert_exporter": "python",
   "pygments_lexer": "ipython3",
   "version": "3.6.3"
  }
 },
 "nbformat": 4,
 "nbformat_minor": 1
}
