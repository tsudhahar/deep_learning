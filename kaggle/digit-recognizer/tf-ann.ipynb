{
 "cells": [
  {
   "cell_type": "markdown",
   "metadata": {},
   "source": [
    "# Digit Recognizer"
   ]
  },
  {
   "cell_type": "markdown",
   "metadata": {},
   "source": [
    "### Import Dependencies"
   ]
  },
  {
   "cell_type": "code",
   "execution_count": null,
   "metadata": {
    "collapsed": true
   },
   "outputs": [],
   "source": [
    "import tensorflow as tf\n",
    "import pandas as pd\n",
    "import numpy as np\n",
    "import matplotlib.pyplot as plt\n",
    "import matplotlib.image as mpimg\n",
    "from sklearn.model_selection import train_test_split\n",
    "\n",
    "import csv"
   ]
  },
  {
   "cell_type": "markdown",
   "metadata": {},
   "source": [
    "### Preparing Data"
   ]
  },
  {
   "cell_type": "code",
   "execution_count": null,
   "metadata": {},
   "outputs": [],
   "source": [
    "data = pd.read_csv('train.csv')\n",
    "train, test = train_test_split(data, test_size=0.2,random_state=0, stratify=data['label'])\n",
    "print(train.shape, test.shape)"
   ]
  },
  {
   "cell_type": "code",
   "execution_count": null,
   "metadata": {
    "collapsed": true
   },
   "outputs": [],
   "source": [
    "Y_train = train.loc[:, 'label'].as_matrix()\n",
    "Y_train = np.eye(10, dtype='float32')[Y_train] \n",
    "#it's imp to specify dtype, as default is float64, but placeholder expects float32.\n",
    "X_train = train.loc[:, train.columns != 'label'].as_matrix()"
   ]
  },
  {
   "cell_type": "code",
   "execution_count": null,
   "metadata": {
    "collapsed": true
   },
   "outputs": [],
   "source": [
    "Y_test = test.loc[:, 'label'].as_matrix()\n",
    "Y_test = np.eye(10, dtype='float32')[Y_test]\n",
    "X_test = test.loc[:, test.columns != 'label'].as_matrix()"
   ]
  },
  {
   "cell_type": "code",
   "execution_count": null,
   "metadata": {
    "collapsed": true
   },
   "outputs": [],
   "source": [
    "X_train = np.multiply(X_train, 1.0/255.0)\n",
    "X_test = np.multiply(X_test, 1.0/255.0)"
   ]
  },
  {
   "cell_type": "code",
   "execution_count": null,
   "metadata": {},
   "outputs": [],
   "source": [
    "print(X_train.shape, Y_train.shape)\n",
    "print(X_test.shape, Y_test.shape)"
   ]
  },
  {
   "cell_type": "code",
   "execution_count": null,
   "metadata": {
    "collapsed": true
   },
   "outputs": [],
   "source": [
    "def get_next_batch(initial, batch_size, X, Y):\n",
    "    return X[initial:initial+batch_size], Y[initial:initial+batch_size]"
   ]
  },
  {
   "cell_type": "markdown",
   "metadata": {},
   "source": [
    "### Build Computation Graph"
   ]
  },
  {
   "cell_type": "markdown",
   "metadata": {},
   "source": [
    "#### ANN implementation"
   ]
  },
  {
   "cell_type": "code",
   "execution_count": null,
   "metadata": {
    "collapsed": true
   },
   "outputs": [],
   "source": [
    "def create_placholders():\n",
    "    X = tf.placeholder(tf.float32, [None, 784], name='X')\n",
    "    Y = tf.placeholder(tf.int32, [None, 10], name='Y')\n",
    "    return (X, Y)"
   ]
  },
  {
   "cell_type": "code",
   "execution_count": null,
   "metadata": {
    "collapsed": true
   },
   "outputs": [],
   "source": [
    "def initialize_parameters():\n",
    "\n",
    "    W1 = tf.get_variable('W1', [784, 128], initializer= tf.contrib.layers.xavier_initializer(seed=0))\n",
    "    W2 = tf.get_variable('W2', [128, 64], initializer= tf.contrib.layers.xavier_initializer(seed=0))\n",
    "    W3 = tf.get_variable('W3', [64, 10], initializer= tf.contrib.layers.xavier_initializer(seed=0))\n",
    "    b1 = tf.get_variable(\"b1\", [128], initializer = tf.zeros_initializer())\n",
    "    b2 = tf.get_variable(\"b2\", [64], initializer = tf.zeros_initializer())\n",
    "    b3 = tf.get_variable(\"b3\", [10], initializer = tf.zeros_initializer())\n",
    "    \n",
    "    return (W1, W2, W3, b1, b2, b3)"
   ]
  },
  {
   "cell_type": "code",
   "execution_count": null,
   "metadata": {
    "collapsed": true
   },
   "outputs": [],
   "source": [
    "def forward_propogation(X, parameters):\n",
    "    W1, W2, W3, b1, b2, b3 = parameters\n",
    "    \n",
    "    Z1 = tf.matmul(X, W1) + b1\n",
    "    A1 = tf.nn.relu(Z1, name='A1')\n",
    "\n",
    "    Z2 = tf.matmul(A1, W2) + b2\n",
    "    A2 = tf.nn.relu(Z2, name='A2')\n",
    "    \n",
    "    Z3 = tf.matmul(A2, W3) + b3\n",
    "    \n",
    "    return Z3"
   ]
  },
  {
   "cell_type": "code",
   "execution_count": null,
   "metadata": {
    "collapsed": true
   },
   "outputs": [],
   "source": [
    "def compute_cost(Z3, Y):\n",
    "    cost = tf.reduce_mean(tf.nn.softmax_cross_entropy_with_logits(logits=Z3, labels=Y), name='cost')\n",
    "    return cost"
   ]
  },
  {
   "cell_type": "code",
   "execution_count": null,
   "metadata": {
    "collapsed": true
   },
   "outputs": [],
   "source": [
    "def ann_model(X_train, Y_train, X_test, Y_test, learning_rate = 0.01, \n",
    "              minibatch_size = 1000):\n",
    "    X, Y = create_placholders()\n",
    "    parameters = initialize_parameters()\n",
    "    Z3 = forward_propogation(X, parameters)\n",
    "    cost = compute_cost(Z3, Y)\n",
    "    adam_optimizer = tf.train.AdamOptimizer(learning_rate).minimize(cost)\n",
    "    init = tf.global_variables_initializer()\n",
    "    \n",
    "    costs = []\n",
    "    initial = 0\n",
    "    \n",
    "    with tf.Session() as sess:\n",
    "        sess.run(init)\n",
    "        for i in range(3001):\n",
    "            batch_xs, batch_ys = get_next_batch(initial, minibatch_size, X_train, Y_train)\n",
    "            initial = 0 if initial>=33000 else initial + minibatch_size\n",
    "            _, c = sess.run([adam_optimizer, cost], feed_dict={X: batch_xs,\n",
    "                                                              Y: batch_ys})\n",
    "            if (i%500==0):\n",
    "                print('Iteration:', i, 'Cost', c)\n",
    "            if (i%10==0):\n",
    "                costs.append(c)\n",
    "\n",
    "        plt.plot(np.squeeze(costs))\n",
    "        plt.ylabel('cost')\n",
    "        plt.xlabel('iterations (per hundreds)')\n",
    "        plt.show()\n",
    "        \n",
    "        parameters = sess.run(parameters)\n",
    "    return parameters"
   ]
  },
  {
   "cell_type": "code",
   "execution_count": null,
   "metadata": {
    "collapsed": true
   },
   "outputs": [],
   "source": [
    "def get_accuracy(X_, Y_, parameters):\n",
    "    X = tf.placeholder(\"float\", [X_.shape[0], 784])\n",
    "    Z3 = forward_propogation(X, parameters)\n",
    "    correct_prediction = tf.equal(tf.argmax(Y_, 1), tf.argmax(Z3, 1))\n",
    "    accuracy = tf.reduce_mean(tf.cast(correct_prediction, tf.float32))\n",
    "    with tf.Session() as sess:\n",
    "        accuracy = sess.run(accuracy, feed_dict={X: X_})\n",
    "    return accuracy"
   ]
  },
  {
   "cell_type": "code",
   "execution_count": null,
   "metadata": {
    "collapsed": true
   },
   "outputs": [],
   "source": [
    "def predict(X, parameters):    \n",
    "    x = tf.placeholder(\"float\", [X.shape[0], 784])\n",
    "    z3 = forward_propogation(x, parameters)\n",
    "    p = tf.argmax(z3, 1)\n",
    "    with tf.Session() as sess:\n",
    "        prediction = sess.run(p, feed_dict = {x: X})\n",
    "    return prediction"
   ]
  },
  {
   "cell_type": "markdown",
   "metadata": {},
   "source": [
    "### Training the model"
   ]
  },
  {
   "cell_type": "code",
   "execution_count": null,
   "metadata": {},
   "outputs": [],
   "source": [
    "%%time\n",
    "tf.reset_default_graph()\n",
    "learning_rate = 0.0001\n",
    "parameters = ann_model(X_train, Y_train, X_test, Y_test, learning_rate=learning_rate)"
   ]
  },
  {
   "cell_type": "markdown",
   "metadata": {},
   "source": [
    "### Accuracy calculation"
   ]
  },
  {
   "cell_type": "code",
   "execution_count": null,
   "metadata": {},
   "outputs": [],
   "source": [
    "print('Train Accuracy', get_accuracy(X_train, Y_train, parameters))\n",
    "print('Test Accuracy', get_accuracy(X_test, Y_test, parameters))"
   ]
  },
  {
   "cell_type": "markdown",
   "metadata": {},
   "source": [
    "### Prediction on kaggle test data set"
   ]
  },
  {
   "cell_type": "code",
   "execution_count": null,
   "metadata": {},
   "outputs": [],
   "source": [
    "X_test_data = pd.read_csv('test.csv').as_matrix()\n",
    "X_test_data = np.multiply(X_test_data, 1.0/255.0)\n",
    "print(X_test_data.shape)"
   ]
  },
  {
   "cell_type": "code",
   "execution_count": null,
   "metadata": {
    "collapsed": true
   },
   "outputs": [],
   "source": [
    "Y_predicted = predict(X_test_data, parameters)\n",
    "with open('submission-v1.csv', 'w') as file:\n",
    "    writer = csv.writer(file)\n",
    "    writer.writerow(['ImageId', 'Label'])\n",
    "    for i in range(Y_predicted.shape[0]):\n",
    "        writer.writerow([i+1, Y_predicted[i]])"
   ]
  },
  {
   "cell_type": "markdown",
   "metadata": {},
   "source": [
    "#### For tensorboard visualization"
   ]
  },
  {
   "cell_type": "code",
   "execution_count": null,
   "metadata": {
    "collapsed": true
   },
   "outputs": [],
   "source": [
    "# writer = tf.summary.FileWriter(\"output\", sess.graph)\n",
    "# writer.close()"
   ]
  },
  {
   "cell_type": "code",
   "execution_count": null,
   "metadata": {
    "collapsed": true
   },
   "outputs": [],
   "source": [
    "#before changing any node in the graph, reset the default graph, run new nodes, reinitialize the session and variables.\n",
    "# to retrain the model, just re-initialise the variables by sess.run(init)\n",
    "# sess.close ? what it actually does?\n",
    "# sess.close()\n",
    "tf.reset_default_graph() # new default graph is created. "
   ]
  },
  {
   "cell_type": "code",
   "execution_count": null,
   "metadata": {},
   "outputs": [],
   "source": [
    "with tf.Session() as sess:\n",
    "    print(sess.run(tf.report_uninitialized_variables()))"
   ]
  },
  {
   "cell_type": "code",
   "execution_count": null,
   "metadata": {
    "collapsed": true
   },
   "outputs": [],
   "source": []
  }
 ],
 "metadata": {
  "kernelspec": {
   "display_name": "Python [conda env:ML2]",
   "language": "python",
   "name": "conda-env-ML2-py"
  },
  "language_info": {
   "codemirror_mode": {
    "name": "ipython",
    "version": 3
   },
   "file_extension": ".py",
   "mimetype": "text/x-python",
   "name": "python",
   "nbconvert_exporter": "python",
   "pygments_lexer": "ipython3",
   "version": "3.6.3"
  }
 },
 "nbformat": 4,
 "nbformat_minor": 2
}
