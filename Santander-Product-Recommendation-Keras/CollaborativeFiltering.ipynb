{
 "cells": [
  {
   "cell_type": "code",
   "execution_count": 46,
   "metadata": {
    "collapsed": true
   },
   "outputs": [],
   "source": [
    "import numpy as np # linear algebra\n",
    "import pandas as pd # data processing, CSV file I/O (e.g. pd.read_csv)\n",
    "from sklearn.metrics import roc_auc_score\n",
    "from sklearn.linear_model import LogisticRegression\n",
    "from collections import defaultdict\n"
   ]
  },
  {
   "cell_type": "code",
   "execution_count": 47,
   "metadata": {
    "collapsed": true
   },
   "outputs": [],
   "source": [
    "usecols = ['ncodpers', 'ind_ahor_fin_ult1', 'ind_aval_fin_ult1', 'ind_cco_fin_ult1',\n",
    "       'ind_cder_fin_ult1', 'ind_cno_fin_ult1', 'ind_ctju_fin_ult1',\n",
    "       'ind_ctma_fin_ult1', 'ind_ctop_fin_ult1', 'ind_ctpp_fin_ult1',\n",
    "       'ind_deco_fin_ult1', 'ind_deme_fin_ult1', 'ind_dela_fin_ult1',\n",
    "       'ind_ecue_fin_ult1', 'ind_fond_fin_ult1', 'ind_hip_fin_ult1',\n",
    "       'ind_plan_fin_ult1', 'ind_pres_fin_ult1', 'ind_reca_fin_ult1',\n",
    "       'ind_tjcr_fin_ult1', 'ind_valo_fin_ult1', 'ind_viv_fin_ult1',\n",
    "       'ind_nomina_ult1', 'ind_nom_pens_ult1', 'ind_recibo_ult1']\n"
   ]
  },
  {
   "cell_type": "code",
   "execution_count": 48,
   "metadata": {
    "collapsed": false
   },
   "outputs": [],
   "source": [
    "df_train = pd.read_csv('input/train_ver2.csv',usecols=usecols)\n",
    "sample = pd.read_csv('input/sample_submission.csv')\n"
   ]
  },
  {
   "cell_type": "code",
   "execution_count": 49,
   "metadata": {
    "collapsed": true
   },
   "outputs": [],
   "source": [
    "df_train = df_train.drop_duplicates(['ncodpers'], keep='last')\n",
    "\n",
    "df_train.fillna(0, inplace=True)\n"
   ]
  },
  {
   "cell_type": "code",
   "execution_count": 50,
   "metadata": {
    "collapsed": false
   },
   "outputs": [
    {
     "name": "stdout",
     "output_type": "stream",
     "text": [
      "ind_ahor_fin_ult1\n",
      "0.792150411114\n",
      "ind_aval_fin_ult1\n",
      "0.979468039595\n",
      "ind_cco_fin_ult1\n",
      "0.650168677577\n",
      "ind_cder_fin_ult1\n",
      "0.788947451695\n",
      "ind_cno_fin_ult1\n",
      "0.97147264422\n",
      "ind_ctju_fin_ult1\n",
      "0.865551362638\n",
      "ind_ctma_fin_ult1\n",
      "0.661593708983\n",
      "ind_ctop_fin_ult1\n",
      "0.612791849412\n",
      "ind_ctpp_fin_ult1\n",
      "0.722375922208\n",
      "ind_deco_fin_ult1\n",
      "0.888840333311\n",
      "ind_deme_fin_ult1\n",
      "0.867520918771\n",
      "ind_dela_fin_ult1\n",
      "0.781944315974\n",
      "ind_ecue_fin_ult1\n",
      "0.775343267456\n",
      "ind_fond_fin_ult1\n",
      "0.856575049545\n",
      "ind_hip_fin_ult1\n",
      "0.918093433488\n",
      "ind_plan_fin_ult1\n",
      "0.848119443503\n",
      "ind_pres_fin_ult1\n",
      "0.709739101862\n",
      "ind_reca_fin_ult1\n",
      "0.834412319138\n",
      "ind_tjcr_fin_ult1\n",
      "0.905159048352\n",
      "ind_valo_fin_ult1\n",
      "0.840802367711\n",
      "ind_viv_fin_ult1\n",
      "0.767965404308\n",
      "ind_nomina_ult1\n",
      "0.998180018332\n",
      "ind_nom_pens_ult1\n",
      "0.998311131002\n",
      "ind_recibo_ult1\n",
      "0.867506551654\n"
     ]
    }
   ],
   "source": [
    "models = {}\n",
    "model_preds = {}\n",
    "id_preds = defaultdict(list)\n",
    "ids = df_train['ncodpers'].values\n",
    "for c in df_train.columns:\n",
    "    if c != 'ncodpers':\n",
    "        print(c)\n",
    "        y_train = df_train[c]\n",
    "        x_train = df_train.drop([c, 'ncodpers'], 1)\n",
    "        \n",
    "        clf = LogisticRegression()\n",
    "        clf.fit(x_train, y_train)\n",
    "        p_train = clf.predict_proba(x_train)[:,1]\n",
    "        \n",
    "        models[c] = clf\n",
    "        model_preds[c] = p_train\n",
    "        for id, p in zip(ids, p_train):\n",
    "            id_preds[id].append(p)\n",
    "            \n",
    "        print(roc_auc_score(y_train, p_train))\n",
    "        "
   ]
  },
  {
   "cell_type": "code",
   "execution_count": 51,
   "metadata": {
    "collapsed": false
   },
   "outputs": [],
   "source": [
    "# check if customer already have each product or not. \n",
    "already_active = {}\n",
    "for row in df_train.values:\n",
    "    row = list(row)\n",
    "    id = row.pop(0)\n",
    "    active = [c[0] for c in zip(df_train.columns[1:], row) if c[1] > 0]\n",
    "    already_active[id] = active\n",
    "\n",
    "# add 7 products(that user don't have yet), higher probability first -> train_pred   \n",
    "train_preds = {}\n",
    "for id, p in id_preds.items():\n",
    "    # Here be dragons\n",
    "    preds = [i[0] for i in sorted([i for i in zip(df_train.columns[1:], p) if i[0] not in already_active[id]],\n",
    "                                  key=lambda i:i [1], \n",
    "                                  reverse=True)[:7]]\n",
    "    train_preds[id] = preds\n",
    "    \n",
    "test_preds = []\n",
    "for row in sample.values:\n",
    "    id = row[0]\n",
    "    p = train_preds[id]\n",
    "    test_preds.append(' '.join(p))\n"
   ]
  },
  {
   "cell_type": "code",
   "execution_count": 9,
   "metadata": {
    "collapsed": true
   },
   "outputs": [],
   "source": [
    "sample['added_products'] = test_preds\n",
    "\n",
    "sample.to_csv('collab_sub.csv', index=False)\n"
   ]
  }
 ],
 "metadata": {
  "kernelspec": {
   "display_name": "Python [conda root]",
   "language": "python",
   "name": "conda-root-py"
  },
  "language_info": {
   "codemirror_mode": {
    "name": "ipython",
    "version": 3
   },
   "file_extension": ".py",
   "mimetype": "text/x-python",
   "name": "python",
   "nbconvert_exporter": "python",
   "pygments_lexer": "ipython3",
   "version": "3.5.2"
  }
 },
 "nbformat": 4,
 "nbformat_minor": 1
}
